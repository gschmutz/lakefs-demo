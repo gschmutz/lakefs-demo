{
 "cells": [
  {
   "cell_type": "markdown",
   "id": "2ccf8b6a-7076-43b9-82ee-d84fdfd75522",
   "metadata": {
    "jp-MarkdownHeadingCollapsed": true
   },
   "source": [
    "<img src=\"https://store-images.s-microsoft.com/image/apps.22094.728e1f25-a784-458f-90e1-7729049edba2.144bf785-b784-41dd-bcef-c91792108c09.f0be1bc2-af8f-49fc-ac4c-dfd9d53d9e8d\" alt=\"lakeFS logo\" width=130/> &nbsp;&nbsp;&nbsp;&nbsp;&nbsp;&nbsp; <img src=\"https://www.apache.org/logos/res/iceberg/iceberg.png\" alt=\"Apache Iceberg logo\" width=300/>  \n",
    "\n",
    "## lakeFS ❤️ Apache Iceberg - an example using Airports dataset"
   ]
  },
  {
   "cell_type": "markdown",
   "id": "7e9ba792-9948-4d21-8346-8dac596063ab",
   "metadata": {
    "tags": []
   },
   "source": [
    "# Config\n",
    "\n",
    "**_If you're not using the provided lakeFS server and MinIO storage then change these values to match your environment_**"
   ]
  },
  {
   "cell_type": "markdown",
   "id": "5a6cb169-f6ad-4927-abbc-cc740d7e1a82",
   "metadata": {},
   "source": [
    "### lakeFS endpoint and credentials"
   ]
  },
  {
   "cell_type": "code",
   "execution_count": 1,
   "id": "418e64da-c208-49f3-963d-9bf9c488b52a",
   "metadata": {
    "tags": []
   },
   "outputs": [],
   "source": [
    "lakefsEndPoint = 'http://lakefs:8000' # e.g. 'https://username.aws_region_name.lakefscloud.io' \n",
    "lakefsAccessKey = 'V42FCGRVMK24JJ8DHUYG'\n",
    "lakefsSecretKey = 'bKhWxVF3kQoLY9kFmt91l+tDrEoZjqnWXzY9Eza'"
   ]
  },
  {
   "cell_type": "markdown",
   "id": "b1f01e2d-b8a5-4820-bed0-efa56d784b80",
   "metadata": {
    "tags": []
   },
   "source": [
    "### Object Storage"
   ]
  },
  {
   "cell_type": "code",
   "execution_count": 2,
   "id": "6ce9539c-ca43-466c-a820-ee8f3f6fa312",
   "metadata": {
    "tags": []
   },
   "outputs": [],
   "source": [
    "storageNamespace = 's3://lakefs-demo-bucket' # e.g. \"s3://bucket\""
   ]
  },
  {
   "cell_type": "markdown",
   "id": "61b9f0c9-e77f-4d4f-a5d5-4b3fcff9bf65",
   "metadata": {},
   "source": [
    "---"
   ]
  },
  {
   "cell_type": "markdown",
   "id": "7b052ac3-055a-4b05-8f6a-cc39747ae5d3",
   "metadata": {
    "tags": []
   },
   "source": [
    "# Setup\n",
    "\n",
    "**(you shouldn't need to change anything in this section, just run it)**"
   ]
  },
  {
   "cell_type": "code",
   "execution_count": 3,
   "id": "80d51253-2d89-4dc0-9879-1104a5228b60",
   "metadata": {
    "tags": []
   },
   "outputs": [],
   "source": [
    "repo_name = \"demo\""
   ]
  },
  {
   "cell_type": "markdown",
   "id": "8b702811-4da6-450b-8e5b-87fffb78e68e",
   "metadata": {},
   "source": [
    "### Versioning Information"
   ]
  },
  {
   "cell_type": "code",
   "execution_count": 4,
   "id": "244e5a2f-7c7f-4e62-ba58-082024804c3a",
   "metadata": {
    "tags": []
   },
   "outputs": [],
   "source": [
    "mainBranch = \"main\"\n",
    "devBranch = \"dev\""
   ]
  },
  {
   "cell_type": "markdown",
   "id": "f6e46953-2b4f-4a43-8525-c38963e11b33",
   "metadata": {},
   "source": [
    "### Some helper functions"
   ]
  },
  {
   "cell_type": "code",
   "execution_count": 5,
   "id": "a0ded8b7-4104-4536-bd4f-5b9062b84256",
   "metadata": {},
   "outputs": [],
   "source": [
    "from pyspark.sql.types import StructType, StructField, IntegerType, StringType\n",
    "import os\n",
    "\n",
    "def print_diff(diff):\n",
    "    results = map(\n",
    "        lambda n:[n.path,n.path_type,n.size_bytes,n.type],\n",
    "        diff)\n",
    "\n",
    "    from tabulate import tabulate\n",
    "    print(tabulate(\n",
    "        results,\n",
    "        headers=['Path','Path Type','Size(Bytes)','Type']))\n",
    "\n",
    "def print_commit(log):\n",
    "    from datetime import datetime\n",
    "    from pprint import pprint\n",
    "\n",
    "    print('Message:', log.message)\n",
    "    print('ID:', log.id)\n",
    "    print('Committer:', log.committer)\n",
    "    print('Creation Date:', datetime.utcfromtimestamp(log.creation_date).strftime('%Y-%m-%d %H:%M:%S'))\n",
    "    print('Parents:', log.parents)\n",
    "    print('Metadata:')\n",
    "    pprint(log.metadata)\n",
    "\n",
    "def lakefs_ui_endpoint(lakefsEndPoint):\n",
    "    if lakefsEndPoint.startswith('http://host.docker.internal'):\n",
    "        lakefsUIEndPoint = lakefsEndPoint.replace('host.docker.internal','127.0.0.1')\n",
    "    elif lakefsEndPoint.startswith('http://lakefs'):\n",
    "        lakefsUIEndPoint = lakefsEndPoint.replace('lakefs','127.0.0.1')\n",
    "    else:\n",
    "        lakefsUIEndPoint = lakefsEndPoint\n",
    "        \n",
    "    return lakefsUIEndPoint"
   ]
  },
  {
   "cell_type": "markdown",
   "id": "fff51734-059c-4521-9df6-2dc2504ee1ec",
   "metadata": {},
   "source": [
    "### Import libraries"
   ]
  },
  {
   "cell_type": "code",
   "execution_count": 6,
   "id": "3c69510e-3107-4055-811e-d232fb11d666",
   "metadata": {
    "tags": []
   },
   "outputs": [],
   "source": [
    "import os\n",
    "import lakefs"
   ]
  },
  {
   "cell_type": "markdown",
   "id": "69d1ff89-480c-4421-8ed5-1b2e33a1fda9",
   "metadata": {
    "tags": []
   },
   "source": [
    "### Set environment variables"
   ]
  },
  {
   "cell_type": "code",
   "execution_count": 7,
   "id": "fde3e9b6-2da3-4ae2-968a-acf874867a71",
   "metadata": {
    "tags": []
   },
   "outputs": [],
   "source": [
    "os.environ[\"LAKECTL_SERVER_ENDPOINT_URL\"] = lakefsEndPoint\n",
    "os.environ[\"LAKECTL_CREDENTIALS_ACCESS_KEY_ID\"] = lakefsAccessKey\n",
    "os.environ[\"LAKECTL_CREDENTIALS_SECRET_ACCESS_KEY\"] = lakefsSecretKey"
   ]
  },
  {
   "cell_type": "markdown",
   "id": "af42373c-9c28-47ce-b060-204825fbce34",
   "metadata": {},
   "source": [
    "#### Verify lakeFS credentials by getting lakeFS version"
   ]
  },
  {
   "cell_type": "code",
   "execution_count": 8,
   "id": "88d9debc-e52e-4b42-8e56-b52e7d798410",
   "metadata": {
    "tags": []
   },
   "outputs": [
    {
     "name": "stdout",
     "output_type": "stream",
     "text": [
      "Verifying lakeFS credentials…\n",
      "…✅lakeFS credentials verified\n",
      "\n",
      "ℹ️lakeFS version 1.42.0\n"
     ]
    }
   ],
   "source": [
    "print(\"Verifying lakeFS credentials…\")\n",
    "try:\n",
    "    v=lakefs.client.Client().version\n",
    "except:\n",
    "    print(\"🛑 failed to get lakeFS version\")\n",
    "else:\n",
    "    print(f\"…✅lakeFS credentials verified\\n\\nℹ️lakeFS version {v}\")"
   ]
  },
  {
   "cell_type": "markdown",
   "id": "b7a2ebb0-b842-4584-8776-ef89976feb9a",
   "metadata": {},
   "source": [
    "### Define lakeFS Repository"
   ]
  },
  {
   "cell_type": "code",
   "execution_count": 9,
   "id": "bf73bf83-546b-4cc0-a920-cfcb16d87a8c",
   "metadata": {
    "tags": []
   },
   "outputs": [
    {
     "name": "stdout",
     "output_type": "stream",
     "text": [
      "{'id': 'demo', 'creation_date': 1732040198, 'default_branch': 'main', 'storage_namespace': 's3://lakefs-demo-bucket/demo'}\n"
     ]
    }
   ],
   "source": [
    "repo = lakefs.Repository(repo_name).create(storage_namespace=f\"{storageNamespace}/{repo_name}\", default_branch=mainBranch, exist_ok=True)\n",
    "branchMain = repo.branch(mainBranch)\n",
    "print(repo)"
   ]
  },
  {
   "cell_type": "markdown",
   "id": "c7403de6-88df-4aed-a8eb-61e6d5899859",
   "metadata": {},
   "source": [
    "### Set up Spark"
   ]
  },
  {
   "cell_type": "code",
   "execution_count": 10,
   "id": "098faed5-149a-4c4d-a52a-3c8e3f98c36b",
   "metadata": {
    "tags": []
   },
   "outputs": [
    {
     "data": {
      "text/html": [
       "\n",
       "            <div>\n",
       "                <p><b>SparkSession - in-memory</b></p>\n",
       "                \n",
       "        <div>\n",
       "            <p><b>SparkContext</b></p>\n",
       "\n",
       "            <p><a href=\"http://jupyter:4040\">Spark UI</a></p>\n",
       "\n",
       "            <dl>\n",
       "              <dt>Version</dt>\n",
       "                <dd><code>v3.5.3</code></dd>\n",
       "              <dt>Master</dt>\n",
       "                <dd><code>local[*]</code></dd>\n",
       "              <dt>AppName</dt>\n",
       "                <dd><code>Iceberg&LakeFS / Jupyter</code></dd>\n",
       "            </dl>\n",
       "        </div>\n",
       "        \n",
       "            </div>\n",
       "        "
      ],
      "text/plain": [
       "<pyspark.sql.session.SparkSession at 0xffff50ab3c10>"
      ]
     },
     "execution_count": 10,
     "metadata": {},
     "output_type": "execute_result"
    }
   ],
   "source": [
    "from pyspark.sql import SparkSession\n",
    "spark = SparkSession.builder.appName(\"Iceberg&LakeFS / Jupyter\") \\\n",
    "        .config(\"spark.jars.packages\", \"org.apache.iceberg:iceberg-spark-runtime-3.5_2.12:1.5.2,io.lakefs:lakefs-iceberg:0.1.4,io.lakefs:lakefs-spark-extensions_2.12:0.0.3\") \\\n",
    "        .config(\"spark.hadoop.fs.s3.impl\", \"org.apache.hadoop.fs.s3a.S3AFileSystem\") \\\n",
    "        .config(\"spark.hadoop.fs.s3a.endpoint\", lakefsEndPoint) \\\n",
    "        .config(\"spark.hadoop.fs.s3a.path.style.access\", \"true\") \\\n",
    "        .config(\"spark.hadoop.fs.s3a.access.key\", lakefsAccessKey) \\\n",
    "        .config(\"spark.hadoop.fs.s3a.secret.key\", lakefsSecretKey) \\\n",
    "        .config(\"spark.sql.catalog.lakefs\", \"org.apache.iceberg.spark.SparkCatalog\") \\\n",
    "        .config(\"spark.sql.catalog.lakefs.catalog-impl\", \"io.lakefs.iceberg.LakeFSCatalog\") \\\n",
    "        .config(\"spark.sql.catalog.lakefs.warehouse\", f\"lakefs://{repo_name}\") \\\n",
    "        .config(\"spark.sql.catalog.lakefs.uri\", lakefsEndPoint) \\\n",
    "        .config(\"spark.sql.catalog.lakefs.cache-enabled\", \"false\") \\\n",
    "        .config(\"spark.sql.defaultCatalog\", \"lakefs\") \\\n",
    "        .config(\"spark.sql.extensions\", \"org.apache.iceberg.spark.extensions.IcebergSparkSessionExtensions,io.lakefs.iceberg.extension.LakeFSSparkSessionExtensions\") \\\n",
    "        .getOrCreate()\n",
    "spark.sparkContext.setLogLevel(\"INFO\")\n",
    "\n",
    "spark"
   ]
  },
  {
   "cell_type": "markdown",
   "id": "aae4b709-7631-4fec-b75b-0fc4a4c417f9",
   "metadata": {},
   "source": [
    "---"
   ]
  },
  {
   "cell_type": "markdown",
   "id": "a226c33f-5a90-4b19-a037-56966130aa6c",
   "metadata": {},
   "source": [
    "---"
   ]
  },
  {
   "cell_type": "markdown",
   "id": "4a827676-a2bc-48f2-9f4b-c4b2d4ba8ff3",
   "metadata": {},
   "source": [
    "# Main demo starts here 🚦 👇🏻"
   ]
  },
  {
   "cell_type": "markdown",
   "id": "eead44c0",
   "metadata": {},
   "source": [
    "# Load some Data"
   ]
  },
  {
   "cell_type": "markdown",
   "id": "6f9a9f41",
   "metadata": {},
   "source": [
    "For this demo, we will use [Airports Open Data](https://ourairports.com/data/) with the Airports dataset.\n",
    "\n",
    "We'll save the sample dataset into an Iceberg table called `airports`, using LakeFS for the catalog."
   ]
  },
  {
   "cell_type": "code",
   "execution_count": 11,
   "id": "90d5241a-a1f2-48ac-9ebb-54ab57f778e5",
   "metadata": {
    "tags": []
   },
   "outputs": [],
   "source": [
    "df = spark.read.option(\"inferSchema\",\"true\").option(\"multiline\",\"false\").json(\"/data-transfer/airports-data/airports.json\")"
   ]
  },
  {
   "cell_type": "code",
   "execution_count": 12,
   "id": "5a3b6d33-b308-4e01-9ac1-0efaa2111793",
   "metadata": {},
   "outputs": [
    {
     "name": "stdout",
     "output_type": "stream",
     "text": [
      "+---------+------------+--------+--------------------+---------+------+-----+-----------+----------+--------+------------------+----------+-------------------+------------+--------------------+-----------------+-------------+--------------------+\n",
      "|continent|elevation_ft|gps_code|           home_link|iata_code|    id|ident|iso_country|iso_region|keywords|      latitude_deg|local_code|      longitude_deg|municipality|                name|scheduled_service|         type|      wikipedia_link|\n",
      "+---------+------------+--------+--------------------+---------+------+-----+-----------+----------+--------+------------------+----------+-------------------+------------+--------------------+-----------------+-------------+--------------------+\n",
      "|       NA|          11|    K00A|https://www.pennd...|     NULL|  6523|  00A|         US|     US-PA|    NULL|         40.070985|       00A|         -74.933689|    Bensalem|   Total RF Heliport|               no|     heliport|                NULL|\n",
      "|       NA|        3435|    00AA|                NULL|     NULL|323361| 00AA|         US|     US-KS|    NULL|         38.704022|      00AA|        -101.473911|       Leoti|Aero B Ranch Airport|               no|small_airport|                NULL|\n",
      "|       NA|         450|    00AK|                NULL|     NULL|  6524| 00AK|         US|     US-AK|    NULL|         59.947733|      00AK|        -151.692524|Anchor Point|        Lowell Field|               no|small_airport|                NULL|\n",
      "|       NA|         820|    00AL|                NULL|     NULL|  6525| 00AL|         US|     US-AL|    NULL| 34.86479949951172|      00AL| -86.77030181884766|     Harvest|        Epps Airpark|               no|small_airport|                NULL|\n",
      "|       NA|          80|    00AN|                NULL|     NULL|506791| 00AN|         US|     US-AK|    NULL|         59.093287|      00AN|        -156.456699| King Salmon|Katmai Lodge Airport|               no|small_airport|                NULL|\n",
      "|       NA|         237|    NULL|                NULL|     NULL|  6526| 00AR|         US|     US-AR|    00AR|           35.6087|      NULL|         -91.254898|     Newport|Newport Hospital ...|               no|       closed|                NULL|\n",
      "|       NA|        1100|    00AS|                NULL|     NULL|322127| 00AS|         US|     US-OK|    NULL|        34.9428028|      00AS|        -97.8180194|        Alex|      Fulton Airport|               no|small_airport|                NULL|\n",
      "|       NA|        3810|    00AZ|                NULL|     NULL|  6527| 00AZ|         US|     US-AZ|    NULL|34.305599212646484|      00AZ|-112.16500091552734|      Cordes|      Cordes Airport|               no|small_airport|                NULL|\n",
      "|       NA|        3038|    00CA|                NULL|     NULL|  6528| 00CA|         US|     US-CA|    NULL|          35.35474|      00CA|        -116.885329|     Barstow|Goldstone (GTS) A...|               no|small_airport|https://en.wikipe...|\n",
      "|       NA|          87|    00CL|                NULL|     NULL|324424| 00CL|         US|     US-CA|    NULL|         39.427188|      00CL|        -121.763427|       Biggs| Williams Ag Airport|               no|small_airport|                NULL|\n",
      "|       NA|        3350|    00CN|                NULL|     NULL|322658| 00CN|         US|     US-CA|    NULL|        32.7273736|      00CN|       -116.4597417| Pine Valley|Kitchen Creek Hel...|               no|     heliport|                NULL|\n",
      "|       NA|        4830|    NULL|                NULL|     NULL|  6529| 00CO|         US|     US-CO|    00CO|         40.622202|      NULL|        -104.344002|  Briggsdale|          Cass Field|               no|       closed|                NULL|\n",
      "|       NA|          53|    00FA|                NULL|     NULL|  6531| 00FA|         US|     US-FL|    NULL| 28.64550018310547|      00FA| -82.21900177001953|    Bushnell| Grass Patch Airport|               no|small_airport|                NULL|\n",
      "|       NA|          25|    NULL|                NULL|     NULL|  6532| 00FD|         US|     US-FL|    00FD|           28.8466|      NULL|         -82.345398|   Riverview|  Ringhaver Heliport|               no|       closed|                NULL|\n",
      "|       NA|          35|    00FL|                NULL|     NULL|  6533| 00FL|         US|     US-FL|    NULL|27.230899810791016|      00FL| -80.96920013427734|  Okeechobee|   River Oak Airport|               no|small_airport|                NULL|\n",
      "|       NA|         700|    00GA|                NULL|     NULL|  6534| 00GA|         US|     US-GA|    NULL| 33.76750183105469|      00GA| -84.06829833984375|    Lithonia|    Lt World Airport|               no|small_airport|                NULL|\n",
      "|       NA|         957|    00GE|                NULL|     NULL|  6535| 00GE|         US|     US-GA|    NULL|         33.887982|      00GE|         -84.736983|       Hiram|    Caffrey Heliport|               no|     heliport|                NULL|\n",
      "|       OC|          43|    00HI|                NULL|     NULL|  6536| 00HI|         US|     US-HI|    NULL|         19.832881|      00HI|        -155.978347| Kailua-Kona|  Kaupulehu Heliport|               no|     heliport|                NULL|\n",
      "|       NA|        2064|    00ID|                NULL|     NULL|  6537| 00ID|         US|     US-ID|    NULL|48.145301818847656|      00ID|-116.21399688720703|  Clark Fork|Delta Shores Airport|               no|small_airport|                NULL|\n",
      "|       NA|        3359|    00IG|                NULL|     NULL|322581| 00IG|         US|     US-KS|    NULL|         39.724028|      00IG|        -101.395994|    McDonald|       Goltl Airport|               no|small_airport|                NULL|\n",
      "+---------+------------+--------+--------------------+---------+------+-----+-----------+----------+--------+------------------+----------+-------------------+------------+--------------------+-----------------+-------------+--------------------+\n",
      "only showing top 20 rows\n",
      "\n"
     ]
    }
   ],
   "source": [
    "df.show(20)"
   ]
  },
  {
   "cell_type": "code",
   "execution_count": 13,
   "id": "a98c6bf0-746d-46d9-b4f8-0d17dc3c9e1f",
   "metadata": {
    "tags": []
   },
   "outputs": [],
   "source": [
    "df.write.mode(\"overwrite\").saveAsTable(\"lakefs.main.flights.airports\")"
   ]
  },
  {
   "cell_type": "code",
   "execution_count": 14,
   "id": "cd434437-5570-4b84-b706-9be9f43eec71",
   "metadata": {
    "tags": []
   },
   "outputs": [
    {
     "data": {
      "text/markdown": [
       "#### 👉🏻 Optionally, go and view the objects in [lakeFS web UI](http://dataplatform:28220/repositories/demo/objects?ref=main&path=nyc%2Fpermits%2F)"
      ],
      "text/plain": [
       "<IPython.core.display.Markdown object>"
      ]
     },
     "execution_count": 14,
     "metadata": {},
     "output_type": "execute_result"
    }
   ],
   "source": [
    "from IPython.display import Markdown as md\n",
    "\n",
    "if lakefsEndPoint=='http://lakefs:8000':\n",
    "    lakeFSWebUI='http://dataplatform:28220'\n",
    "else:\n",
    "    lakeFSWebUI=lakefsEndPoint\n",
    "\n",
    "md(f\"#### 👉🏻 Optionally, go and view the objects in [lakeFS web UI]({lakeFSWebUI}/repositories/{repo_name}/objects?ref=main&path=nyc%2Fpermits%2F)\")"
   ]
  },
  {
   "cell_type": "markdown",
   "id": "378cf187",
   "metadata": {},
   "source": [
    "Taking a quick peek at the data, we can see some of the airports and their columns and that here is a total of 81'193 airports in the table."
   ]
  },
  {
   "cell_type": "code",
   "execution_count": 15,
   "id": "b83aa4cb-6d9c-4405-8996-d590feadd154",
   "metadata": {},
   "outputs": [],
   "source": [
    "%load_ext sql"
   ]
  },
  {
   "cell_type": "code",
   "execution_count": 16,
   "id": "0ebc8546-c693-4882-b46b-cd994fc2b462",
   "metadata": {},
   "outputs": [],
   "source": [
    "%sql spark"
   ]
  },
  {
   "cell_type": "code",
   "execution_count": 17,
   "id": "f3170161",
   "metadata": {
    "tags": []
   },
   "outputs": [
    {
     "data": {
      "text/html": [
       "<span style=\"None\">Running query in &#x27;SparkSession&#x27;</span>"
      ],
      "text/plain": [
       "Running query in 'SparkSession'"
      ]
     },
     "metadata": {},
     "output_type": "display_data"
    },
    {
     "data": {
      "text/html": [
       "<span style=\"color: green\">81193 rows affected.</span>"
      ],
      "text/plain": [
       "81193 rows affected."
      ]
     },
     "metadata": {},
     "output_type": "display_data"
    },
    {
     "data": {
      "text/html": [
       "<table>\n",
       "    <thead>\n",
       "        <tr>\n",
       "            <th>Field 1</th>\n",
       "            <th>Field 2</th>\n",
       "            <th>Field 3</th>\n",
       "            <th>Field 4</th>\n",
       "            <th>Field 5</th>\n",
       "            <th>Field 6</th>\n",
       "            <th>Field 7</th>\n",
       "            <th>Field 8</th>\n",
       "            <th>Field 9</th>\n",
       "            <th>Field 10</th>\n",
       "            <th>Field 11</th>\n",
       "            <th>Field 12</th>\n",
       "            <th>Field 13</th>\n",
       "            <th>Field 14</th>\n",
       "            <th>Field 15</th>\n",
       "            <th>Field 16</th>\n",
       "            <th>Field 17</th>\n",
       "            <th>Field 18</th>\n",
       "        </tr>\n",
       "    </thead>\n",
       "    <tbody>\n",
       "        <tr>\n",
       "            <td>NA</td>\n",
       "            <td>11</td>\n",
       "            <td>K00A</td>\n",
       "            <td><a href=https://www.penndot.pa.gov/TravelInPA/airports-pa/Pages/Total-RF-Heliport.aspx>https://www.penndot.pa.gov/TravelInPA/airports-pa/Pages/Total-RF-Heliport.aspx</a></td>\n",
       "            <td>None</td>\n",
       "            <td>6523</td>\n",
       "            <td>00A</td>\n",
       "            <td>US</td>\n",
       "            <td>US-PA</td>\n",
       "            <td>None</td>\n",
       "            <td>40.070985</td>\n",
       "            <td>00A</td>\n",
       "            <td>-74.933689</td>\n",
       "            <td>Bensalem</td>\n",
       "            <td>Total RF Heliport</td>\n",
       "            <td>no</td>\n",
       "            <td>heliport</td>\n",
       "            <td>None</td>\n",
       "        </tr>\n",
       "        <tr>\n",
       "            <td>NA</td>\n",
       "            <td>3435</td>\n",
       "            <td>00AA</td>\n",
       "            <td>None</td>\n",
       "            <td>None</td>\n",
       "            <td>323361</td>\n",
       "            <td>00AA</td>\n",
       "            <td>US</td>\n",
       "            <td>US-KS</td>\n",
       "            <td>None</td>\n",
       "            <td>38.704022</td>\n",
       "            <td>00AA</td>\n",
       "            <td>-101.473911</td>\n",
       "            <td>Leoti</td>\n",
       "            <td>Aero B Ranch Airport</td>\n",
       "            <td>no</td>\n",
       "            <td>small_airport</td>\n",
       "            <td>None</td>\n",
       "        </tr>\n",
       "    </tbody>\n",
       "</table>\n",
       "<span style=\"font-style:italic;text-align:center;\">Truncated to <a href=\"https://jupysql.ploomber.io/en/latest/api/configuration.html#displaylimit\">displaylimit</a> of 10.</span>"
      ],
      "text/plain": [
       "+---------+---------+---------+---------------------------------------------------------------------------------------------------------------------------------------------------------------------------+---------+---------+---------+---------+---------+----------+--------------------+----------+---------------------+--------------+------------------------------------+----------+---------------+----------+\n",
       "| Field 1 | Field 2 | Field 3 |                                                                                  Field 4                                                                                  | Field 5 | Field 6 | Field 7 | Field 8 | Field 9 | Field 10 |      Field 11      | Field 12 |       Field 13      |   Field 14   |              Field 15              | Field 16 |    Field 17   | Field 18 |\n",
       "+---------+---------+---------+---------------------------------------------------------------------------------------------------------------------------------------------------------------------------+---------+---------+---------+---------+---------+----------+--------------------+----------+---------------------+--------------+------------------------------------+----------+---------------+----------+\n",
       "|    NA   |    11   |   K00A  | <a href=https://www.penndot.pa.gov/TravelInPA/airports-pa/Pages/Total-RF-Heliport.aspx>https://www.penndot.pa.gov/TravelInPA/airports-pa/Pages/Total-RF-Heliport.aspx</a> |   None  |   6523  |   00A   |    US   |  US-PA  |   None   |     40.070985      |   00A    |      -74.933689     |   Bensalem   |         Total RF Heliport          |    no    |    heliport   |   None   |\n",
       "|    NA   |   3435  |   00AA  |                                                                                    None                                                                                   |   None  |  323361 |   00AA  |    US   |  US-KS  |   None   |     38.704022      |   00AA   |     -101.473911     |    Leoti     |        Aero B Ranch Airport        |    no    | small_airport |   None   |\n",
       "|    NA   |   450   |   00AK  |                                                                                    None                                                                                   |   None  |   6524  |   00AK  |    US   |  US-AK  |   None   |     59.947733      |   00AK   |     -151.692524     | Anchor Point |            Lowell Field            |    no    | small_airport |   None   |\n",
       "|    NA   |   820   |   00AL  |                                                                                    None                                                                                   |   None  |   6525  |   00AL  |    US   |  US-AL  |   None   | 34.86479949951172  |   00AL   |  -86.77030181884766 |   Harvest    |            Epps Airpark            |    no    | small_airport |   None   |\n",
       "|    NA   |    80   |   00AN  |                                                                                    None                                                                                   |   None  |  506791 |   00AN  |    US   |  US-AK  |   None   |     59.093287      |   00AN   |     -156.456699     | King Salmon  |        Katmai Lodge Airport        |    no    | small_airport |   None   |\n",
       "|    NA   |   237   |   None  |                                                                                    None                                                                                   |   None  |   6526  |   00AR  |    US   |  US-AR  |   00AR   |      35.6087       |   None   |      -91.254898     |   Newport    | Newport Hospital & Clinic Heliport |    no    |     closed    |   None   |\n",
       "|    NA   |   1100  |   00AS  |                                                                                    None                                                                                   |   None  |  322127 |   00AS  |    US   |  US-OK  |   None   |     34.9428028     |   00AS   |     -97.8180194     |     Alex     |           Fulton Airport           |    no    | small_airport |   None   |\n",
       "|    NA   |   3810  |   00AZ  |                                                                                    None                                                                                   |   None  |   6527  |   00AZ  |    US   |  US-AZ  |   None   | 34.305599212646484 |   00AZ   | -112.16500091552734 |    Cordes    |           Cordes Airport           |    no    | small_airport |   None   |\n",
       "+---------+---------+---------+---------------------------------------------------------------------------------------------------------------------------------------------------------------------------+---------+---------+---------+---------+---------+----------+--------------------+----------+---------------------+--------------+------------------------------------+----------+---------------+----------+\n",
       "Truncated to displaylimit of 10."
      ]
     },
     "execution_count": 17,
     "metadata": {},
     "output_type": "execute_result"
    }
   ],
   "source": [
    "%%sql\n",
    "SELECT\n",
    "  *\n",
    "FROM\n",
    "  lakefs.main.flights.airports;"
   ]
  },
  {
   "cell_type": "markdown",
   "id": "0be9fdb4-aa94-4cc2-a007-073e9be43d60",
   "metadata": {},
   "source": [
    "# Verifying Iceberg Data and Metadata in Minio "
   ]
  },
  {
   "cell_type": "markdown",
   "id": "70a81b4c-303f-4c7e-8819-7d030e083713",
   "metadata": {},
   "source": [
    "Access the Minio UI on <http://dataplatform:9010> and login.\n",
    "\n",
    "Once logged in, locate the bucket where the Iceberg table is stored (e.g., the `nessie-demo-bucket` bucket).\n",
    "                                                                     \n",
    "Inside the bucket, you will see a directory structure that represents the Iceberg table. The structure typically includes:\n",
    "\n",
    "* Data Files: These are the physical Parquet files containing the actual data for the table.\n",
    "* Metadata Files: These are JSON files that track the state and evolution of the table, including schema changes, partitions, snapshots, and more.\n",
    "\n",
    "Let's Examine the Iceberg Metadata files"
   ]
  },
  {
   "cell_type": "code",
   "execution_count": 18,
   "id": "5e4061b4-f741-4706-b98f-526fba87131e",
   "metadata": {},
   "outputs": [
    {
     "name": "stdout",
     "output_type": "stream",
     "text": [
      "{\n",
      "    \"format-version\": 2,\n",
      "    \"table-uuid\": \"6c738efd-07d6-456a-ba66-e3989674837b\",\n",
      "    \"location\": \"flights/airports\",\n",
      "    \"last-sequence-number\": 1,\n",
      "    \"last-updated-ms\": 1732042561425,\n",
      "    \"last-column-id\": 18,\n",
      "    \"current-schema-id\": 0,\n",
      "    \"schemas\": [\n",
      "        {\n",
      "            \"type\": \"struct\",\n",
      "            \"schema-id\": 0,\n",
      "            \"fields\": [\n",
      "                {\n",
      "                    \"id\": 1,\n",
      "                    \"name\": \"continent\",\n",
      "                    \"required\": false,\n",
      "                    \"type\": \"string\"\n",
      "                },\n",
      "                {\n",
      "                    \"id\": 2,\n",
      "                    \"name\": \"elevation_ft\",\n",
      "                    \"required\": false,\n",
      "                    \"type\": \"long\"\n",
      "                },\n",
      "                {\n",
      "                    \"id\": 3,\n",
      "                    \"name\": \"gps_code\",\n",
      "                    \"required\": false,\n",
      "                    \"type\": \"string\"\n",
      "                },\n",
      "                {\n",
      "                    \"id\": 4,\n",
      "                    \"name\": \"home_link\",\n",
      "                    \"required\": false,\n",
      "                    \"type\": \"string\"\n",
      "                },\n",
      "                {\n",
      "                    \"id\": 5,\n",
      "                    \"name\": \"iata_code\",\n",
      "                    \"required\": false,\n",
      "                    \"type\": \"string\"\n",
      "                },\n",
      "                {\n",
      "                    \"id\": 6,\n",
      "                    \"name\": \"id\",\n",
      "                    \"required\": false,\n",
      "                    \"type\": \"long\"\n",
      "                },\n",
      "                {\n",
      "                    \"id\": 7,\n",
      "                    \"name\": \"ident\",\n",
      "                    \"required\": false,\n",
      "                    \"type\": \"string\"\n",
      "                },\n",
      "                {\n",
      "                    \"id\": 8,\n",
      "                    \"name\": \"iso_country\",\n",
      "                    \"required\": false,\n",
      "                    \"type\": \"string\"\n",
      "                },\n",
      "                {\n",
      "                    \"id\": 9,\n",
      "                    \"name\": \"iso_region\",\n",
      "                    \"required\": false,\n",
      "                    \"type\": \"string\"\n",
      "                },\n",
      "                {\n",
      "                    \"id\": 10,\n",
      "                    \"name\": \"keywords\",\n",
      "                    \"required\": false,\n",
      "                    \"type\": \"string\"\n",
      "                },\n",
      "                {\n",
      "                    \"id\": 11,\n",
      "                    \"name\": \"latitude_deg\",\n",
      "                    \"required\": false,\n",
      "                    \"type\": \"double\"\n",
      "                },\n",
      "                {\n",
      "                    \"id\": 12,\n",
      "                    \"name\": \"local_code\",\n",
      "                    \"required\": false,\n",
      "                    \"type\": \"string\"\n",
      "                },\n",
      "                {\n",
      "                    \"id\": 13,\n",
      "                    \"name\": \"longitude_deg\",\n",
      "                    \"required\": false,\n",
      "                    \"type\": \"double\"\n",
      "                },\n",
      "                {\n",
      "                    \"id\": 14,\n",
      "                    \"name\": \"municipality\",\n",
      "                    \"required\": false,\n",
      "                    \"type\": \"string\"\n",
      "                },\n",
      "                {\n",
      "                    \"id\": 15,\n",
      "                    \"name\": \"name\",\n",
      "                    \"required\": false,\n",
      "                    \"type\": \"string\"\n",
      "                },\n",
      "                {\n",
      "                    \"id\": 16,\n",
      "                    \"name\": \"scheduled_service\",\n",
      "                    \"required\": false,\n",
      "                    \"type\": \"string\"\n",
      "                },\n",
      "                {\n",
      "                    \"id\": 17,\n",
      "                    \"name\": \"type\",\n",
      "                    \"required\": false,\n",
      "                    \"type\": \"string\"\n",
      "                },\n",
      "                {\n",
      "                    \"id\": 18,\n",
      "                    \"name\": \"wikipedia_link\",\n",
      "                    \"required\": false,\n",
      "                    \"type\": \"string\"\n",
      "                }\n",
      "            ]\n",
      "        }\n",
      "    ],\n",
      "    \"default-spec-id\": 0,\n",
      "    \"partition-specs\": [\n",
      "        {\n",
      "            \"spec-id\": 0,\n",
      "            \"fields\": []\n",
      "        }\n",
      "    ],\n",
      "    \"last-partition-id\": 999,\n",
      "    \"default-sort-order-id\": 0,\n",
      "    \"sort-orders\": [\n",
      "        {\n",
      "            \"order-id\": 0,\n",
      "            \"fields\": []\n",
      "        }\n",
      "    ],\n",
      "    \"properties\": {\n",
      "        \"owner\": \"jovyan\",\n",
      "        \"write.format.default\": \"parquet\",\n",
      "        \"write.parquet.compression-codec\": \"zstd\"\n",
      "    },\n",
      "    \"current-snapshot-id\": 1331519257749484312,\n",
      "    \"refs\": {\n",
      "        \"main\": {\n",
      "            \"snapshot-id\": 1331519257749484312,\n",
      "            \"type\": \"branch\"\n",
      "        }\n",
      "    },\n",
      "    \"snapshots\": [\n",
      "        {\n",
      "            \"sequence-number\": 1,\n",
      "            \"snapshot-id\": 1331519257749484312,\n",
      "            \"timestamp-ms\": 1732042561425,\n",
      "            \"summary\": {\n",
      "                \"operation\": \"append\",\n",
      "                \"spark.app.id\": \"local-1732042555207\",\n",
      "                \"added-data-files\": \"6\",\n",
      "                \"added-records\": \"81193\",\n",
      "                \"added-files-size\": \"3520419\",\n",
      "                \"changed-partition-count\": \"1\",\n",
      "                \"total-records\": \"81193\",\n",
      "                \"total-files-size\": \"3520419\",\n",
      "                \"total-data-files\": \"6\",\n",
      "                \"total-delete-files\": \"0\",\n",
      "                \"total-position-deletes\": \"0\",\n",
      "                \"total-equality-deletes\": \"0\"\n",
      "            },\n",
      "            \"manifest-list\": \"flights/airports/metadata/snap-1331519257749484312-1-fa6ef674-2976-4c06-a58a-a7221944d83b.avro\",\n",
      "            \"schema-id\": 0\n",
      "        }\n",
      "    ],\n",
      "    \"statistics\": [],\n",
      "    \"partition-statistics\": [],\n",
      "    \"snapshot-log\": [\n",
      "        {\n",
      "            \"timestamp-ms\": 1732042561425,\n",
      "            \"snapshot-id\": 1331519257749484312\n",
      "        }\n",
      "    ],\n",
      "    \"metadata-log\": []\n",
      "}\n"
     ]
    }
   ],
   "source": [
    "import boto3\n",
    "import json\n",
    "\n",
    "# Define Minio connection parameters\n",
    "minio_client = boto3.client(\n",
    "    's3',\n",
    "    endpoint_url=lakefsEndPoint, \n",
    "    aws_access_key_id=lakefsAccessKey,\n",
    "    aws_secret_access_key=lakefsSecretKey,\n",
    "    region_name='us-east-1'\n",
    ")\n",
    "\n",
    "# Specify the bucket (actually repo name, because we use LakeFS) and metadata file path\n",
    "repo_name = 'demo'\n",
    "metadata_file_key = 'main/flights/airports/metadata/v1.metadata.json'  # Example metadata path\n",
    "\n",
    "# Download the metadata file\n",
    "metadata_file = minio_client.get_object(Bucket=repo_name, Key=metadata_file_key)\n",
    "metadata_content = metadata_file['Body'].read().decode('utf-8')\n",
    "\n",
    "# Parse and print the metadata content\n",
    "metadata_json = json.loads(metadata_content)\n",
    "print(json.dumps(metadata_json, indent=4))\n"
   ]
  },
  {
   "cell_type": "markdown",
   "id": "f3459879-3a8b-43e7-b360-85c55aebaa55",
   "metadata": {},
   "source": [
    "The metadata JSON file contains important information about the table, including:\n",
    "\n",
    "* **Schema:** Defines the structure of the table (columns, types, etc.).\n",
    "* **Snapshots:** Lists all snapshots of the table, which track historical versions of the data.\n",
    "* **Partition Information:** Details about how the table is partitioned, if applicable. By examining this metadata, you can gain insight into how Apache Iceberg tracks the state of the table, manages schema evolution, and supports features like time travel and partitioning.\n"
   ]
  },
  {
   "cell_type": "markdown",
   "id": "cf24d569-83ca-4c04-8435-2f51d55778dc",
   "metadata": {},
   "source": [
    "### Commit the new table and its data"
   ]
  },
  {
   "cell_type": "code",
   "execution_count": 19,
   "id": "9b23e4a7-5245-425a-a5a8-8919ecb9a17c",
   "metadata": {
    "tags": []
   },
   "outputs": [
    {
     "name": "stdout",
     "output_type": "stream",
     "text": [
      "Message: Initial data load\n",
      "ID: a540fc17a2d4e7be8facf74469b692c50489a8ca17ed0f74f02663d4b71de29f\n",
      "Committer: quickstart\n",
      "Creation Date: 2024-11-19 18:56:04\n",
      "Parents: ['65e8d77f883721f05f6e4741467f00ee9e3187c98368b44da1dcb95bae4f23ff']\n",
      "Metadata:\n",
      "{'author': 'lakefs', 'data source': 'https://ourairports.com/data/'}\n"
     ]
    }
   ],
   "source": [
    "ref = branchMain.commit(\n",
    "    message=\"Initial data load\",\n",
    "    metadata={'author': 'lakefs',\n",
    "              'data source': 'https://ourairports.com/data/'})\n",
    "print_commit(ref.get_commit())"
   ]
  },
  {
   "cell_type": "markdown",
   "id": "3825889e-49bf-4eac-a23e-9250ab0b53e0",
   "metadata": {},
   "source": [
    "# Create a new branch\n",
    "\n",
    "_This is copy-on-write; we're not duplicating the data_"
   ]
  },
  {
   "cell_type": "code",
   "execution_count": 20,
   "id": "2118f922-c2c4-4d4d-b7ae-5fbcc4fff04d",
   "metadata": {
    "tags": []
   },
   "outputs": [
    {
     "name": "stdout",
     "output_type": "stream",
     "text": [
      "dev ref: a540fc17a2d4e7be8facf74469b692c50489a8ca17ed0f74f02663d4b71de29f\n"
     ]
    }
   ],
   "source": [
    "branchDev = repo.branch(devBranch).create(source_reference=mainBranch, exist_ok=True)\n",
    "print(f\"{devBranch} ref:\", branchDev.get_commit().id)"
   ]
  },
  {
   "cell_type": "markdown",
   "id": "4b81878b-3cca-457b-b344-35ef476ce3fb",
   "metadata": {},
   "source": [
    "### Confirm that we can see the data on the `dev` branch"
   ]
  },
  {
   "cell_type": "code",
   "execution_count": 21,
   "id": "3591df18-ba42-47a8-bf1b-38374f0cfe79",
   "metadata": {
    "tags": []
   },
   "outputs": [
    {
     "data": {
      "text/html": [
       "<span style=\"None\">Running query in &#x27;SparkSession&#x27;</span>"
      ],
      "text/plain": [
       "Running query in 'SparkSession'"
      ]
     },
     "metadata": {},
     "output_type": "display_data"
    },
    {
     "data": {
      "text/html": [
       "<span style=\"color: green\">1 rows affected.</span>"
      ],
      "text/plain": [
       "1 rows affected."
      ]
     },
     "metadata": {},
     "output_type": "display_data"
    },
    {
     "data": {
      "text/html": [
       "<table>\n",
       "    <thead>\n",
       "        <tr>\n",
       "            <th>Field 1</th>\n",
       "        </tr>\n",
       "    </thead>\n",
       "    <tbody>\n",
       "        <tr>\n",
       "            <td>81193</td>\n",
       "        </tr>\n",
       "    </tbody>\n",
       "</table>"
      ],
      "text/plain": [
       "+---------+\n",
       "| Field 1 |\n",
       "+---------+\n",
       "|  81193  |\n",
       "+---------+"
      ]
     },
     "execution_count": 21,
     "metadata": {},
     "output_type": "execute_result"
    }
   ],
   "source": [
    "%%sql\n",
    "SELECT\n",
    "  COUNT(*)\n",
    "FROM\n",
    "  lakefs.main.flights.airports;"
   ]
  },
  {
   "cell_type": "markdown",
   "id": "437088f6",
   "metadata": {},
   "source": [
    "# Making [and reverting] changes on the dev branch"
   ]
  },
  {
   "cell_type": "markdown",
   "id": "6cdece16-eb56-4459-94e5-9d0da350b235",
   "metadata": {},
   "source": [
    "Let's go big! Let's see what happens when we delete the contents of the table with a careless `DELETE` omitting an all-important predicate"
   ]
  },
  {
   "cell_type": "code",
   "execution_count": 21,
   "id": "3d066bae-77d2-4ead-a04b-ded869e96ace",
   "metadata": {
    "tags": []
   },
   "outputs": [
    {
     "data": {
      "text/html": [
       "<span style=\"None\">Running query in &#x27;SparkSession&#x27;</span>"
      ],
      "text/plain": [
       "Running query in 'SparkSession'"
      ]
     },
     "metadata": {},
     "output_type": "display_data"
    },
    {
     "data": {
      "text/html": [
       "<table>\n",
       "    <thead>\n",
       "        <tr>\n",
       "        </tr>\n",
       "    </thead>\n",
       "    <tbody>\n",
       "    </tbody>\n",
       "</table>"
      ],
      "text/plain": [
       "++\n",
       "||\n",
       "++\n",
       "++"
      ]
     },
     "execution_count": 21,
     "metadata": {},
     "output_type": "execute_result"
    }
   ],
   "source": [
    "%sql DELETE FROM lakefs.dev.flights.airports"
   ]
  },
  {
   "cell_type": "markdown",
   "id": "e2f890ff-3353-4e87-9c5d-8a1f682d4ab1",
   "metadata": {},
   "source": [
    "How's that data looking now?"
   ]
  },
  {
   "cell_type": "code",
   "execution_count": 22,
   "id": "5bba978c-b4f7-4c7f-9dfa-f51386072f93",
   "metadata": {
    "tags": []
   },
   "outputs": [
    {
     "data": {
      "text/html": [
       "<span style=\"None\">Running query in &#x27;SparkSession&#x27;</span>"
      ],
      "text/plain": [
       "Running query in 'SparkSession'"
      ]
     },
     "metadata": {},
     "output_type": "display_data"
    },
    {
     "data": {
      "text/html": [
       "<span style=\"color: green\">1 rows affected.</span>"
      ],
      "text/plain": [
       "1 rows affected."
      ]
     },
     "metadata": {},
     "output_type": "display_data"
    },
    {
     "data": {
      "text/html": [
       "<table>\n",
       "    <thead>\n",
       "        <tr>\n",
       "            <th>Field 1</th>\n",
       "        </tr>\n",
       "    </thead>\n",
       "    <tbody>\n",
       "        <tr>\n",
       "            <td>0</td>\n",
       "        </tr>\n",
       "    </tbody>\n",
       "</table>"
      ],
      "text/plain": [
       "+---------+\n",
       "| Field 1 |\n",
       "+---------+\n",
       "|    0    |\n",
       "+---------+"
      ]
     },
     "execution_count": 22,
     "metadata": {},
     "output_type": "execute_result"
    }
   ],
   "source": [
    "%%sql\n",
    "SELECT\n",
    "  COUNT(*)\n",
    "FROM\n",
    "  lakefs.dev.flights.airports;"
   ]
  },
  {
   "cell_type": "markdown",
   "id": "95b9425b-ce20-44c3-a134-096d0fb9250c",
   "metadata": {},
   "source": [
    "But `main` is safe and unsullied 😌"
   ]
  },
  {
   "cell_type": "code",
   "execution_count": 23,
   "id": "ceea4d24-d556-41f6-9ad4-708f603916c6",
   "metadata": {
    "tags": []
   },
   "outputs": [
    {
     "data": {
      "text/html": [
       "<span style=\"None\">Running query in &#x27;SparkSession&#x27;</span>"
      ],
      "text/plain": [
       "Running query in 'SparkSession'"
      ]
     },
     "metadata": {},
     "output_type": "display_data"
    },
    {
     "data": {
      "text/html": [
       "<span style=\"color: green\">1 rows affected.</span>"
      ],
      "text/plain": [
       "1 rows affected."
      ]
     },
     "metadata": {},
     "output_type": "display_data"
    },
    {
     "data": {
      "text/html": [
       "<table>\n",
       "    <thead>\n",
       "        <tr>\n",
       "            <th>Field 1</th>\n",
       "        </tr>\n",
       "    </thead>\n",
       "    <tbody>\n",
       "        <tr>\n",
       "            <td>81193</td>\n",
       "        </tr>\n",
       "    </tbody>\n",
       "</table>"
      ],
      "text/plain": [
       "+---------+\n",
       "| Field 1 |\n",
       "+---------+\n",
       "|  81193  |\n",
       "+---------+"
      ]
     },
     "execution_count": 23,
     "metadata": {},
     "output_type": "execute_result"
    }
   ],
   "source": [
    "%%sql\n",
    "SELECT\n",
    "  COUNT(*)\n",
    "FROM\n",
    "  lakefs.main.flights.airports;"
   ]
  },
  {
   "cell_type": "markdown",
   "id": "fada3e38-bd04-4639-b7c0-a0edf50b0263",
   "metadata": {},
   "source": [
    "## Reverting changes to the `dev` branch"
   ]
  },
  {
   "cell_type": "markdown",
   "id": "ef0ab7c3-0ddc-44f1-b4f0-6c9343994d5c",
   "metadata": {},
   "source": [
    "### Uncommitted objects:"
   ]
  },
  {
   "cell_type": "code",
   "execution_count": 26,
   "id": "a44da2b8-068a-47c3-91b8-6140f6d2fbbb",
   "metadata": {
    "tags": []
   },
   "outputs": [
    {
     "name": "stdout",
     "output_type": "stream",
     "text": [
      "Path                                                                                            Path Type      Size(Bytes)  Type\n",
      "----------------------------------------------------------------------------------------------  -----------  -------------  -------\n",
      "flights/airports/metadata/6fd965fe-dc76-4e4e-b4b7-55abe8e05256-m0.avro                          object                9952  added\n",
      "flights/airports/metadata/snap-4756451933891843082-1-6fd965fe-dc76-4e4e-b4b7-55abe8e05256.avro  object                4229  added\n",
      "flights/airports/metadata/v2.metadata.json                                                      object                4554  added\n",
      "flights/airports/metadata/version-hint.text                                                     object                   1  changed\n"
     ]
    }
   ],
   "source": [
    "print_diff(branchDev.uncommitted())"
   ]
  },
  {
   "cell_type": "markdown",
   "id": "4fae7c8a-2f9c-4e63-8a47-c3cdddfb7953",
   "metadata": {},
   "source": [
    "### Reset the branch"
   ]
  },
  {
   "cell_type": "code",
   "execution_count": 27,
   "id": "fc5e7a5f-afe1-43e5-81cc-76d6422df220",
   "metadata": {
    "tags": []
   },
   "outputs": [],
   "source": [
    "branchDev.reset_changes(path_type='common_prefix', path=\"flights/airports/\")"
   ]
  },
  {
   "cell_type": "markdown",
   "id": "18e71e27-9d1e-4918-b674-631e484819f1",
   "metadata": {},
   "source": [
    "_This just resets the changes to the files for this table. To reset the whole branch use_:\n",
    "\n",
    "```python\n",
    "branchDev.reset_changes(path_type='reset')\n",
    "```"
   ]
  },
  {
   "cell_type": "markdown",
   "id": "353fe4a8-f178-46b3-8f6a-5161f69e6cf4",
   "metadata": {},
   "source": [
    "### Uncommitted objects:"
   ]
  },
  {
   "cell_type": "code",
   "execution_count": 28,
   "id": "6d8342d8-ca4f-4dd9-a7bc-ff1ca5b01392",
   "metadata": {
    "tags": []
   },
   "outputs": [
    {
     "name": "stdout",
     "output_type": "stream",
     "text": [
      "Path    Path Type    Size(Bytes)    Type\n",
      "------  -----------  -------------  ------\n"
     ]
    }
   ],
   "source": [
    "print_diff(branchDev.uncommitted())"
   ]
  },
  {
   "cell_type": "markdown",
   "id": "5e57d467-fade-415d-ba87-2ac72eb7927e",
   "metadata": {},
   "source": [
    "## Our data's back!"
   ]
  },
  {
   "cell_type": "code",
   "execution_count": 29,
   "id": "0b2f4a09-52ac-439e-993a-f408de64b94a",
   "metadata": {
    "tags": []
   },
   "outputs": [
    {
     "data": {
      "text/html": [
       "<span style=\"None\">Running query in &#x27;SparkSession&#x27;</span>"
      ],
      "text/plain": [
       "Running query in 'SparkSession'"
      ]
     },
     "metadata": {},
     "output_type": "display_data"
    },
    {
     "data": {
      "text/html": [
       "<span style=\"color: green\">1 rows affected.</span>"
      ],
      "text/plain": [
       "1 rows affected."
      ]
     },
     "metadata": {},
     "output_type": "display_data"
    },
    {
     "data": {
      "text/html": [
       "<table>\n",
       "    <thead>\n",
       "        <tr>\n",
       "            <th>Field 1</th>\n",
       "        </tr>\n",
       "    </thead>\n",
       "    <tbody>\n",
       "        <tr>\n",
       "            <td>81193</td>\n",
       "        </tr>\n",
       "    </tbody>\n",
       "</table>"
      ],
      "text/plain": [
       "+---------+\n",
       "| Field 1 |\n",
       "+---------+\n",
       "|  81193  |\n",
       "+---------+"
      ]
     },
     "execution_count": 29,
     "metadata": {},
     "output_type": "execute_result"
    }
   ],
   "source": [
    "%%sql\n",
    "SELECT\n",
    "  COUNT(*)\n",
    "FROM\n",
    "  lakefs.dev.flights.airports;"
   ]
  },
  {
   "cell_type": "markdown",
   "id": "aac5a375-c3af-42d6-a12a-00ef37469a9d",
   "metadata": {},
   "source": [
    "# Making changes to the `dev` branch as a collection"
   ]
  },
  {
   "cell_type": "markdown",
   "id": "7fe94d73-cbfa-4570-9736-e82498441cab",
   "metadata": {},
   "source": [
    "## Delete all airports which are not in the US"
   ]
  },
  {
   "cell_type": "code",
   "execution_count": 30,
   "id": "14843243",
   "metadata": {
    "tags": []
   },
   "outputs": [
    {
     "data": {
      "text/html": [
       "<span style=\"None\">Running query in &#x27;SparkSession&#x27;</span>"
      ],
      "text/plain": [
       "Running query in 'SparkSession'"
      ]
     },
     "metadata": {},
     "output_type": "display_data"
    },
    {
     "data": {
      "text/html": [
       "<table>\n",
       "    <thead>\n",
       "        <tr>\n",
       "        </tr>\n",
       "    </thead>\n",
       "    <tbody>\n",
       "    </tbody>\n",
       "</table>"
      ],
      "text/plain": [
       "++\n",
       "||\n",
       "++\n",
       "++"
      ]
     },
     "execution_count": 30,
     "metadata": {},
     "output_type": "execute_result"
    }
   ],
   "source": [
    "%sql DELETE FROM lakefs.dev.flights.airports WHERE iso_country!='US'"
   ]
  },
  {
   "cell_type": "markdown",
   "id": "c891a7c9-d235-408c-be70-25fa701f923f",
   "metadata": {},
   "source": [
    "## Build an aggregate of the data to show the numbers of US airports per region"
   ]
  },
  {
   "cell_type": "code",
   "execution_count": 31,
   "id": "e22154ae-e74d-4ae2-ad89-496dedfbcfe4",
   "metadata": {
    "tags": []
   },
   "outputs": [
    {
     "data": {
      "text/html": [
       "<span style=\"None\">Running query in &#x27;SparkSession&#x27;</span>"
      ],
      "text/plain": [
       "Running query in 'SparkSession'"
      ]
     },
     "metadata": {},
     "output_type": "display_data"
    },
    {
     "data": {
      "text/html": [
       "<table>\n",
       "    <thead>\n",
       "        <tr>\n",
       "        </tr>\n",
       "    </thead>\n",
       "    <tbody>\n",
       "    </tbody>\n",
       "</table>"
      ],
      "text/plain": [
       "++\n",
       "||\n",
       "++\n",
       "++"
      ]
     },
     "execution_count": 31,
     "metadata": {},
     "output_type": "execute_result"
    }
   ],
   "source": [
    "%%sql\n",
    "CREATE\n",
    "OR REPLACE TABLE lakefs.dev.flights.agg_us_airports_per_region AS\n",
    "SELECT\n",
    "  iso_region,\n",
    "  COUNT(*) airports_cnt\n",
    "FROM\n",
    "  lakefs.dev.flights.airports\n",
    "GROUP BY\n",
    "  iso_region;"
   ]
  },
  {
   "cell_type": "code",
   "execution_count": 33,
   "id": "4068734a-80e9-446a-a6ab-ccbe67f952a5",
   "metadata": {
    "tags": []
   },
   "outputs": [
    {
     "data": {
      "text/html": [
       "<span style=\"None\">displaylimit: Value None will be treated as 0 (no limit)</span>"
      ],
      "text/plain": [
       "displaylimit: Value None will be treated as 0 (no limit)"
      ]
     },
     "metadata": {},
     "output_type": "display_data"
    },
    {
     "data": {
      "text/html": [
       "<span style=\"None\">Running query in &#x27;SparkSession&#x27;</span>"
      ],
      "text/plain": [
       "Running query in 'SparkSession'"
      ]
     },
     "metadata": {},
     "output_type": "display_data"
    },
    {
     "data": {
      "text/html": [
       "<span style=\"color: green\">10 rows affected.</span>"
      ],
      "text/plain": [
       "10 rows affected."
      ]
     },
     "metadata": {},
     "output_type": "display_data"
    },
    {
     "data": {
      "text/html": [
       "<table>\n",
       "    <thead>\n",
       "        <tr>\n",
       "            <th>Field 1</th>\n",
       "            <th>Field 2</th>\n",
       "        </tr>\n",
       "    </thead>\n",
       "    <tbody>\n",
       "        <tr>\n",
       "            <td>US-TN</td>\n",
       "            <td>440</td>\n",
       "        </tr>\n",
       "        <tr>\n",
       "            <td>US-OK</td>\n",
       "            <td>696</td>\n",
       "        </tr>\n",
       "        <tr>\n",
       "            <td>US-VT</td>\n",
       "            <td>122</td>\n",
       "        </tr>\n",
       "        <tr>\n",
       "            <td>US-SD</td>\n",
       "            <td>256</td>\n",
       "        </tr>\n",
       "        <tr>\n",
       "            <td>US-WA</td>\n",
       "            <td>742</td>\n",
       "        </tr>\n",
       "        <tr>\n",
       "            <td>US-IN</td>\n",
       "            <td>785</td>\n",
       "        </tr>\n",
       "        <tr>\n",
       "            <td>US-NY</td>\n",
       "            <td>796</td>\n",
       "        </tr>\n",
       "        <tr>\n",
       "            <td>US-AL</td>\n",
       "            <td>500</td>\n",
       "        </tr>\n",
       "        <tr>\n",
       "            <td>US-MS</td>\n",
       "            <td>442</td>\n",
       "        </tr>\n",
       "        <tr>\n",
       "            <td>US-MT</td>\n",
       "            <td>442</td>\n",
       "        </tr>\n",
       "    </tbody>\n",
       "</table>"
      ],
      "text/plain": [
       "+---------+---------+\n",
       "| Field 1 | Field 2 |\n",
       "+---------+---------+\n",
       "|  US-TN  |   440   |\n",
       "|  US-OK  |   696   |\n",
       "|  US-VT  |   122   |\n",
       "|  US-SD  |   256   |\n",
       "|  US-WA  |   742   |\n",
       "|  US-IN  |   785   |\n",
       "|  US-NY  |   796   |\n",
       "|  US-AL  |   500   |\n",
       "|  US-MS  |   442   |\n",
       "|  US-MT  |   442   |\n",
       "+---------+---------+"
      ]
     },
     "execution_count": 33,
     "metadata": {},
     "output_type": "execute_result"
    }
   ],
   "source": [
    "%config SqlMagic.displaylimit = None\n",
    "%sql SELECT * FROM lakefs.dev.flights.agg_us_airports_per_region LIMIT 10;"
   ]
  },
  {
   "cell_type": "markdown",
   "id": "8eb688c8",
   "metadata": {},
   "source": [
    "# Compare `main` and `dev`"
   ]
  },
  {
   "cell_type": "markdown",
   "id": "63d6217b-9963-46f6-8311-d1bc9286a889",
   "metadata": {},
   "source": [
    "## `dev`"
   ]
  },
  {
   "cell_type": "code",
   "execution_count": 34,
   "id": "dfbd0d4b",
   "metadata": {
    "tags": []
   },
   "outputs": [
    {
     "data": {
      "text/html": [
       "<span style=\"None\">Running query in &#x27;SparkSession&#x27;</span>"
      ],
      "text/plain": [
       "Running query in 'SparkSession'"
      ]
     },
     "metadata": {},
     "output_type": "display_data"
    },
    {
     "data": {
      "text/html": [
       "<span style=\"color: green\">1 rows affected.</span>"
      ],
      "text/plain": [
       "1 rows affected."
      ]
     },
     "metadata": {},
     "output_type": "display_data"
    },
    {
     "data": {
      "text/html": [
       "<table>\n",
       "    <thead>\n",
       "        <tr>\n",
       "            <th>Field 1</th>\n",
       "        </tr>\n",
       "    </thead>\n",
       "    <tbody>\n",
       "        <tr>\n",
       "            <td>31695</td>\n",
       "        </tr>\n",
       "    </tbody>\n",
       "</table>"
      ],
      "text/plain": [
       "+---------+\n",
       "| Field 1 |\n",
       "+---------+\n",
       "|  31695  |\n",
       "+---------+"
      ]
     },
     "execution_count": 34,
     "metadata": {},
     "output_type": "execute_result"
    }
   ],
   "source": [
    "%%sql\n",
    "SELECT\n",
    "  COUNT(*)\n",
    "FROM\n",
    "  lakefs.dev.flights.airports;"
   ]
  },
  {
   "cell_type": "markdown",
   "id": "85332bf5",
   "metadata": {},
   "source": [
    "## `main`"
   ]
  },
  {
   "cell_type": "code",
   "execution_count": 35,
   "id": "95df15e9",
   "metadata": {
    "tags": []
   },
   "outputs": [
    {
     "data": {
      "text/html": [
       "<span style=\"None\">Running query in &#x27;SparkSession&#x27;</span>"
      ],
      "text/plain": [
       "Running query in 'SparkSession'"
      ]
     },
     "metadata": {},
     "output_type": "display_data"
    },
    {
     "data": {
      "text/html": [
       "<span style=\"color: green\">1 rows affected.</span>"
      ],
      "text/plain": [
       "1 rows affected."
      ]
     },
     "metadata": {},
     "output_type": "display_data"
    },
    {
     "data": {
      "text/html": [
       "<table>\n",
       "    <thead>\n",
       "        <tr>\n",
       "            <th>Field 1</th>\n",
       "        </tr>\n",
       "    </thead>\n",
       "    <tbody>\n",
       "        <tr>\n",
       "            <td>81193</td>\n",
       "        </tr>\n",
       "    </tbody>\n",
       "</table>"
      ],
      "text/plain": [
       "+---------+\n",
       "| Field 1 |\n",
       "+---------+\n",
       "|  81193  |\n",
       "+---------+"
      ]
     },
     "execution_count": 35,
     "metadata": {},
     "output_type": "execute_result"
    }
   ],
   "source": [
    "%%sql\n",
    "SELECT\n",
    "  COUNT(*)\n",
    "FROM\n",
    "  lakefs.main.flights.airports;"
   ]
  },
  {
   "cell_type": "markdown",
   "id": "678319c2-7c8a-4542-89e0-fa028dd6d789",
   "metadata": {},
   "source": [
    "## `Data diff`\n",
    "refs_data_diff is an SQL table-valued function (TVF). The expression:\n",
    "##### `refs_data_diff(PREFIX, FROM_SCHEMA, TO_SCHEMA, TABLE)`\n",
    "yields a relation that compares the \"from\" table PREFIX.FROM_SCHEMA.TABLE with the \"to\" table PREFIX.TO_SCHEMA.TABLE. Its output is the difference: a relation (like a view) that adds a single column lakefs_change to the table schema.\n",
    "\n",
    "* Rows that appear only in the first version of the table  (in the example, on branch main) appear in the difference with lakefs_change==’-’.\n",
    "* Rows that appear only in the second version of the table  (in the example, on branch dev) appear in the difference with lakefs_change==’+’.\n",
    "* Rows that appear in both versions of the table do not appear in the difference."
   ]
  },
  {
   "cell_type": "code",
   "execution_count": 36,
   "id": "78f52d4f-6c0e-4da3-9d36-2ef4cdf6ad59",
   "metadata": {
    "tags": []
   },
   "outputs": [
    {
     "data": {
      "text/html": [
       "<span style=\"None\">Running query in &#x27;SparkSession&#x27;</span>"
      ],
      "text/plain": [
       "Running query in 'SparkSession'"
      ]
     },
     "metadata": {},
     "output_type": "display_data"
    },
    {
     "data": {
      "text/html": [
       "<span style=\"color: green\">5 rows affected.</span>"
      ],
      "text/plain": [
       "5 rows affected."
      ]
     },
     "metadata": {},
     "output_type": "display_data"
    },
    {
     "data": {
      "text/html": [
       "<table>\n",
       "    <thead>\n",
       "        <tr>\n",
       "            <th>Field 1</th>\n",
       "            <th>Field 2</th>\n",
       "            <th>Field 3</th>\n",
       "            <th>Field 4</th>\n",
       "            <th>Field 5</th>\n",
       "            <th>Field 6</th>\n",
       "            <th>Field 7</th>\n",
       "            <th>Field 8</th>\n",
       "            <th>Field 9</th>\n",
       "            <th>Field 10</th>\n",
       "            <th>Field 11</th>\n",
       "            <th>Field 12</th>\n",
       "            <th>Field 13</th>\n",
       "            <th>Field 14</th>\n",
       "            <th>Field 15</th>\n",
       "            <th>Field 16</th>\n",
       "            <th>Field 17</th>\n",
       "            <th>Field 18</th>\n",
       "            <th>Field 19</th>\n",
       "        </tr>\n",
       "    </thead>\n",
       "    <tbody>\n",
       "        <tr>\n",
       "            <td>-</td>\n",
       "            <td>SA</td>\n",
       "            <td>89</td>\n",
       "            <td>SBJE</td>\n",
       "            <td><a href=https://aeroportodejericoacoara.com.br>https://aeroportodejericoacoara.com.br</a></td>\n",
       "            <td>JJD</td>\n",
       "            <td>323221</td>\n",
       "            <td>JJD</td>\n",
       "            <td>BR</td>\n",
       "            <td>BR-CE</td>\n",
       "            <td>SSVV, Jericoacoara</td>\n",
       "            <td>-2.906425</td>\n",
       "            <td>CE0003</td>\n",
       "            <td>-40.357338</td>\n",
       "            <td>Cruz</td>\n",
       "            <td>Comandante Ariston Pessoa Airport</td>\n",
       "            <td>yes</td>\n",
       "            <td>medium_airport</td>\n",
       "            <td><a href=https://en.wikipedia.org/wiki/Jericoacoara_airport>https://en.wikipedia.org/wiki/Jericoacoara_airport</a></td>\n",
       "        </tr>\n",
       "        <tr>\n",
       "            <td>-</td>\n",
       "            <td>NA</td>\n",
       "            <td>972</td>\n",
       "            <td>CYLS</td>\n",
       "            <td><a href=http://www.lakesimcoeairport.com/>http://www.lakesimcoeairport.com/</a></td>\n",
       "            <td>YLK</td>\n",
       "            <td>1293</td>\n",
       "            <td>CYLS</td>\n",
       "            <td>CA</td>\n",
       "            <td>CA-ON</td>\n",
       "            <td>NB9, CNB9, Oro Station</td>\n",
       "            <td>44.485056</td>\n",
       "            <td>CYLS</td>\n",
       "            <td>-79.554663</td>\n",
       "            <td>Barrie</td>\n",
       "            <td>Barrie-Lake Simcoe Regional Airport</td>\n",
       "            <td>yes</td>\n",
       "            <td>medium_airport</td>\n",
       "            <td><a href=https://en.wikipedia.org/wiki/Barrie-Orillia_(Lake_Simcoe_Regional)_Airport>https://en.wikipedia.org/wiki/Barrie-Orillia_(Lake_Simcoe_Regional)_Airport</a></td>\n",
       "        </tr>\n",
       "        <tr>\n",
       "            <td>-</td>\n",
       "            <td>EU</td>\n",
       "            <td>40</td>\n",
       "            <td>LIPR</td>\n",
       "            <td><a href=http://www.riminiairport.com/english/>http://www.riminiairport.com/english/</a></td>\n",
       "            <td>RMI</td>\n",
       "            <td>4362</td>\n",
       "            <td>LIPR</td>\n",
       "            <td>IT</td>\n",
       "            <td>IT-45</td>\n",
       "            <td>Rimini Miramare Airport, Rimini San Marino International Airport</td>\n",
       "            <td>44.020302</td>\n",
       "            <td>RN01</td>\n",
       "            <td>12.6117</td>\n",
       "            <td>Rimini (RN)</td>\n",
       "            <td>Federico Fellini International Airport</td>\n",
       "            <td>yes</td>\n",
       "            <td>medium_airport</td>\n",
       "            <td><a href=https://en.wikipedia.org/wiki/Federico_Fellini_International_Airport>https://en.wikipedia.org/wiki/Federico_Fellini_International_Airport</a></td>\n",
       "        </tr>\n",
       "        <tr>\n",
       "            <td>-</td>\n",
       "            <td>EU</td>\n",
       "            <td>36</td>\n",
       "            <td>LIER</td>\n",
       "            <td><a href=http://www.sogeaor.it>http://www.sogeaor.it</a></td>\n",
       "            <td>FNU</td>\n",
       "            <td>29424</td>\n",
       "            <td>LIER</td>\n",
       "            <td>IT</td>\n",
       "            <td>IT-88</td>\n",
       "            <td>QOS</td>\n",
       "            <td>39.895308</td>\n",
       "            <td>OR01</td>\n",
       "            <td>8.642661</td>\n",
       "            <td>Oristano</td>\n",
       "            <td>Oristano-Fenosu Airport</td>\n",
       "            <td>no</td>\n",
       "            <td>small_airport</td>\n",
       "            <td><a href=http://it.wikipedia.org/wiki/Aeroporto_di_Oristano-Fenosu>http://it.wikipedia.org/wiki/Aeroporto_di_Oristano-Fenosu</a></td>\n",
       "        </tr>\n",
       "        <tr>\n",
       "            <td>-</td>\n",
       "            <td>EU</td>\n",
       "            <td>59</td>\n",
       "            <td>LIPH</td>\n",
       "            <td><a href=http://www.trevisoairport.it/tsf/index.jsp?_requestid=677517&language=en>http://www.trevisoairport.it/tsf/index.jsp?_requestid=677517&language=en</a></td>\n",
       "            <td>TSF</td>\n",
       "            <td>4355</td>\n",
       "            <td>LIPH</td>\n",
       "            <td>IT</td>\n",
       "            <td>IT-34</td>\n",
       "            <td>Venice-Treviso, Treviso-Sant'Angelo</td>\n",
       "            <td>45.648399</td>\n",
       "            <td>TV01</td>\n",
       "            <td>12.1944</td>\n",
       "            <td>Treviso (TV)</td>\n",
       "            <td>Treviso Antonio Canova Airport</td>\n",
       "            <td>yes</td>\n",
       "            <td>medium_airport</td>\n",
       "            <td><a href=https://en.wikipedia.org/wiki/Treviso_Airport>https://en.wikipedia.org/wiki/Treviso_Airport</a></td>\n",
       "        </tr>\n",
       "    </tbody>\n",
       "</table>"
      ],
      "text/plain": [
       "+---------+---------+---------+---------+---------------------------------------------------------------------------------------------------------------------------------------------------------------+---------+---------+---------+---------+----------+------------------------------------------------------------------+-----------+----------+------------+--------------+----------------------------------------+----------+----------------+---------------------------------------------------------------------------------------------------------------------------------------------------------------------+\n",
       "| Field 1 | Field 2 | Field 3 | Field 4 |                                                                            Field 5                                                                            | Field 6 | Field 7 | Field 8 | Field 9 | Field 10 |                             Field 11                             |  Field 12 | Field 13 |  Field 14  |   Field 15   |                Field 16                | Field 17 |    Field 18    |                                                                               Field 19                                                                              |\n",
       "+---------+---------+---------+---------+---------------------------------------------------------------------------------------------------------------------------------------------------------------+---------+---------+---------+---------+----------+------------------------------------------------------------------+-----------+----------+------------+--------------+----------------------------------------+----------+----------------+---------------------------------------------------------------------------------------------------------------------------------------------------------------------+\n",
       "|    -    |    SA   |    89   |   SBJE  |                                   <a href=https://aeroportodejericoacoara.com.br>https://aeroportodejericoacoara.com.br</a>                                   |   JJD   |  323221 |   JJD   |    BR   |  BR-CE   |                        SSVV, Jericoacoara                        | -2.906425 |  CE0003  | -40.357338 |     Cruz     |   Comandante Ariston Pessoa Airport    |   yes    | medium_airport |                          <a href=https://en.wikipedia.org/wiki/Jericoacoara_airport>https://en.wikipedia.org/wiki/Jericoacoara_airport</a>                          |\n",
       "|    -    |    NA   |   972   |   CYLS  |                                        <a href=http://www.lakesimcoeairport.com/>http://www.lakesimcoeairport.com/</a>                                        |   YLK   |   1293  |   CYLS  |    CA   |  CA-ON   |                      NB9, CNB9, Oro Station                      | 44.485056 |   CYLS   | -79.554663 |    Barrie    |  Barrie-Lake Simcoe Regional Airport   |   yes    | medium_airport | <a href=https://en.wikipedia.org/wiki/Barrie-Orillia_(Lake_Simcoe_Regional)_Airport>https://en.wikipedia.org/wiki/Barrie-Orillia_(Lake_Simcoe_Regional)_Airport</a> |\n",
       "|    -    |    EU   |    40   |   LIPR  |                                    <a href=http://www.riminiairport.com/english/>http://www.riminiairport.com/english/</a>                                    |   RMI   |   4362  |   LIPR  |    IT   |  IT-45   | Rimini Miramare Airport, Rimini San Marino International Airport | 44.020302 |   RN01   |  12.6117   | Rimini (RN)  | Federico Fellini International Airport |   yes    | medium_airport |        <a href=https://en.wikipedia.org/wiki/Federico_Fellini_International_Airport>https://en.wikipedia.org/wiki/Federico_Fellini_International_Airport</a>        |\n",
       "|    -    |    EU   |    36   |   LIER  |                                                    <a href=http://www.sogeaor.it>http://www.sogeaor.it</a>                                                    |   FNU   |  29424  |   LIER  |    IT   |  IT-88   |                               QOS                                | 39.895308 |   OR01   |  8.642661  |   Oristano   |        Oristano-Fenosu Airport         |    no    | small_airport  |                   <a href=http://it.wikipedia.org/wiki/Aeroporto_di_Oristano-Fenosu>http://it.wikipedia.org/wiki/Aeroporto_di_Oristano-Fenosu</a>                   |\n",
       "|    -    |    EU   |    59   |   LIPH  | <a href=http://www.trevisoairport.it/tsf/index.jsp?_requestid=677517&language=en>http://www.trevisoairport.it/tsf/index.jsp?_requestid=677517&language=en</a> |   TSF   |   4355  |   LIPH  |    IT   |  IT-34   |               Venice-Treviso, Treviso-Sant'Angelo                | 45.648399 |   TV01   |  12.1944   | Treviso (TV) |     Treviso Antonio Canova Airport     |   yes    | medium_airport |                               <a href=https://en.wikipedia.org/wiki/Treviso_Airport>https://en.wikipedia.org/wiki/Treviso_Airport</a>                               |\n",
       "+---------+---------+---------+---------+---------------------------------------------------------------------------------------------------------------------------------------------------------------+---------+---------+---------+---------+----------+------------------------------------------------------------------+-----------+----------+------------+--------------+----------------------------------------+----------+----------------+---------------------------------------------------------------------------------------------------------------------------------------------------------------------+"
      ]
     },
     "execution_count": 36,
     "metadata": {},
     "output_type": "execute_result"
    }
   ],
   "source": [
    "%%sql\n",
    "SELECT\n",
    "  *\n",
    "FROM\n",
    "  refs_data_diff ('lakefs', 'main', 'dev', 'flights.airports')\n",
    "LIMIT\n",
    "  5;"
   ]
  },
  {
   "cell_type": "code",
   "execution_count": 40,
   "id": "11768471-5f67-419f-80f5-3a1ac6314b19",
   "metadata": {
    "tags": []
   },
   "outputs": [
    {
     "data": {
      "text/html": [
       "<span style=\"None\">Running query in &#x27;SparkSession&#x27;</span>"
      ],
      "text/plain": [
       "Running query in 'SparkSession'"
      ]
     },
     "metadata": {},
     "output_type": "display_data"
    },
    {
     "data": {
      "text/html": [
       "<span style=\"color: green\">20 rows affected.</span>"
      ],
      "text/plain": [
       "20 rows affected."
      ]
     },
     "metadata": {},
     "output_type": "display_data"
    },
    {
     "data": {
      "text/html": [
       "<table>\n",
       "    <thead>\n",
       "        <tr>\n",
       "            <th>Field 1</th>\n",
       "            <th>Field 2</th>\n",
       "            <th>Field 3</th>\n",
       "        </tr>\n",
       "    </thead>\n",
       "    <tbody>\n",
       "        <tr>\n",
       "            <td>-</td>\n",
       "            <td>CD</td>\n",
       "            <td>306</td>\n",
       "        </tr>\n",
       "        <tr>\n",
       "            <td>-</td>\n",
       "            <td>KE</td>\n",
       "            <td>375</td>\n",
       "        </tr>\n",
       "        <tr>\n",
       "            <td>-</td>\n",
       "            <td>NI</td>\n",
       "            <td>44</td>\n",
       "        </tr>\n",
       "        <tr>\n",
       "            <td>-</td>\n",
       "            <td>GN</td>\n",
       "            <td>17</td>\n",
       "        </tr>\n",
       "        <tr>\n",
       "            <td>-</td>\n",
       "            <td>LU</td>\n",
       "            <td>15</td>\n",
       "        </tr>\n",
       "        <tr>\n",
       "            <td>-</td>\n",
       "            <td>ES</td>\n",
       "            <td>553</td>\n",
       "        </tr>\n",
       "        <tr>\n",
       "            <td>-</td>\n",
       "            <td>CM</td>\n",
       "            <td>40</td>\n",
       "        </tr>\n",
       "        <tr>\n",
       "            <td>-</td>\n",
       "            <td>TZ</td>\n",
       "            <td>211</td>\n",
       "        </tr>\n",
       "        <tr>\n",
       "            <td>-</td>\n",
       "            <td>HK</td>\n",
       "            <td>103</td>\n",
       "        </tr>\n",
       "        <tr>\n",
       "            <td>-</td>\n",
       "            <td>BA</td>\n",
       "            <td>24</td>\n",
       "        </tr>\n",
       "        <tr>\n",
       "            <td>-</td>\n",
       "            <td>HN</td>\n",
       "            <td>159</td>\n",
       "        </tr>\n",
       "        <tr>\n",
       "            <td>-</td>\n",
       "            <td>ST</td>\n",
       "            <td>4</td>\n",
       "        </tr>\n",
       "        <tr>\n",
       "            <td>-</td>\n",
       "            <td>TO</td>\n",
       "            <td>6</td>\n",
       "        </tr>\n",
       "        <tr>\n",
       "            <td>-</td>\n",
       "            <td>IL</td>\n",
       "            <td>57</td>\n",
       "        </tr>\n",
       "        <tr>\n",
       "            <td>-</td>\n",
       "            <td>GR</td>\n",
       "            <td>157</td>\n",
       "        </tr>\n",
       "        <tr>\n",
       "            <td>-</td>\n",
       "            <td>NG</td>\n",
       "            <td>66</td>\n",
       "        </tr>\n",
       "        <tr>\n",
       "            <td>-</td>\n",
       "            <td>MT</td>\n",
       "            <td>9</td>\n",
       "        </tr>\n",
       "        <tr>\n",
       "            <td>-</td>\n",
       "            <td>AG</td>\n",
       "            <td>6</td>\n",
       "        </tr>\n",
       "        <tr>\n",
       "            <td>-</td>\n",
       "            <td>CU</td>\n",
       "            <td>154</td>\n",
       "        </tr>\n",
       "        <tr>\n",
       "            <td>-</td>\n",
       "            <td>UY</td>\n",
       "            <td>70</td>\n",
       "        </tr>\n",
       "    </tbody>\n",
       "</table>"
      ],
      "text/plain": [
       "+---------+---------+---------+\n",
       "| Field 1 | Field 2 | Field 3 |\n",
       "+---------+---------+---------+\n",
       "|    -    |    CD   |   306   |\n",
       "|    -    |    KE   |   375   |\n",
       "|    -    |    NI   |    44   |\n",
       "|    -    |    GN   |    17   |\n",
       "|    -    |    LU   |    15   |\n",
       "|    -    |    ES   |   553   |\n",
       "|    -    |    CM   |    40   |\n",
       "|    -    |    TZ   |   211   |\n",
       "|    -    |    HK   |   103   |\n",
       "|    -    |    BA   |    24   |\n",
       "|    -    |    HN   |   159   |\n",
       "|    -    |    ST   |    4    |\n",
       "|    -    |    TO   |    6    |\n",
       "|    -    |    IL   |    57   |\n",
       "|    -    |    GR   |   157   |\n",
       "|    -    |    NG   |    66   |\n",
       "|    -    |    MT   |    9    |\n",
       "|    -    |    AG   |    6    |\n",
       "|    -    |    CU   |   154   |\n",
       "|    -    |    UY   |    70   |\n",
       "+---------+---------+---------+"
      ]
     },
     "execution_count": 40,
     "metadata": {},
     "output_type": "execute_result"
    }
   ],
   "source": [
    "%%sql\n",
    "SELECT\n",
    "  lakefs_change,\n",
    "  iso_country,\n",
    "  COUNT(*) AS airports_per_country\n",
    "FROM\n",
    "  refs_data_diff ('lakefs', 'main', 'dev', 'flights.airports')\n",
    "GROUP BY\n",
    "  lakefs_change,\n",
    "  iso_country\n",
    "LIMIT 20"
   ]
  },
  {
   "cell_type": "markdown",
   "id": "4da9f250-ad50-4655-ae96-a52208f2ab06",
   "metadata": {},
   "source": [
    "# Partition the data in the `dev` branch"
   ]
  },
  {
   "cell_type": "code",
   "execution_count": 42,
   "id": "07434883-1ce5-4acc-afea-65afaaed428a",
   "metadata": {
    "tags": []
   },
   "outputs": [
    {
     "data": {
      "text/html": [
       "<span style=\"None\">Running query in &#x27;SparkSession&#x27;</span>"
      ],
      "text/plain": [
       "Running query in 'SparkSession'"
      ]
     },
     "metadata": {},
     "output_type": "display_data"
    },
    {
     "data": {
      "text/html": [
       "<table>\n",
       "    <thead>\n",
       "        <tr>\n",
       "        </tr>\n",
       "    </thead>\n",
       "    <tbody>\n",
       "    </tbody>\n",
       "</table>"
      ],
      "text/plain": [
       "++\n",
       "||\n",
       "++\n",
       "++"
      ]
     },
     "execution_count": 42,
     "metadata": {},
     "output_type": "execute_result"
    }
   ],
   "source": [
    "%%sql\n",
    "CREATE TABLE\n",
    "  lakefs.dev.flights.airports_partitioned USING iceberg PARTITIONED BY (iso_region) AS\n",
    "SELECT\n",
    "  *\n",
    "FROM\n",
    "  lakefs.dev.flights.airports\n",
    "ORDER BY\n",
    "  iso_region;"
   ]
  },
  {
   "cell_type": "code",
   "execution_count": 43,
   "id": "096d031f-5fc5-47d0-9b29-05a4b6222441",
   "metadata": {
    "tags": []
   },
   "outputs": [
    {
     "data": {
      "text/html": [
       "<span style=\"None\">Running query in &#x27;SparkSession&#x27;</span>"
      ],
      "text/plain": [
       "Running query in 'SparkSession'"
      ]
     },
     "metadata": {},
     "output_type": "display_data"
    },
    {
     "data": {
      "text/html": [
       "<span style=\"color: green\">52 rows affected.</span>"
      ],
      "text/plain": [
       "52 rows affected."
      ]
     },
     "metadata": {},
     "output_type": "display_data"
    },
    {
     "data": {
      "text/html": [
       "<table>\n",
       "    <thead>\n",
       "        <tr>\n",
       "            <th>Field 1</th>\n",
       "            <th>Field 2</th>\n",
       "        </tr>\n",
       "    </thead>\n",
       "    <tbody>\n",
       "        <tr>\n",
       "            <td>US-WA</td>\n",
       "            <td>742</td>\n",
       "        </tr>\n",
       "        <tr>\n",
       "            <td>US-NV</td>\n",
       "            <td>416</td>\n",
       "        </tr>\n",
       "        <tr>\n",
       "            <td>US-AK</td>\n",
       "            <td>1065</td>\n",
       "        </tr>\n",
       "        <tr>\n",
       "            <td>US-U-A</td>\n",
       "            <td>1</td>\n",
       "        </tr>\n",
       "        <tr>\n",
       "            <td>US-SD</td>\n",
       "            <td>256</td>\n",
       "        </tr>\n",
       "        <tr>\n",
       "            <td>US-AL</td>\n",
       "            <td>500</td>\n",
       "        </tr>\n",
       "        <tr>\n",
       "            <td>US-NY</td>\n",
       "            <td>796</td>\n",
       "        </tr>\n",
       "        <tr>\n",
       "            <td>US-CT</td>\n",
       "            <td>168</td>\n",
       "        </tr>\n",
       "        <tr>\n",
       "            <td>US-NC</td>\n",
       "            <td>609</td>\n",
       "        </tr>\n",
       "        <tr>\n",
       "            <td>US-RI</td>\n",
       "            <td>44</td>\n",
       "        </tr>\n",
       "        <tr>\n",
       "            <td>US-MA</td>\n",
       "            <td>273</td>\n",
       "        </tr>\n",
       "        <tr>\n",
       "            <td>US-MD</td>\n",
       "            <td>295</td>\n",
       "        </tr>\n",
       "        <tr>\n",
       "            <td>US-TN</td>\n",
       "            <td>440</td>\n",
       "        </tr>\n",
       "        <tr>\n",
       "            <td>US-IA</td>\n",
       "            <td>419</td>\n",
       "        </tr>\n",
       "        <tr>\n",
       "            <td>US-AZ</td>\n",
       "            <td>979</td>\n",
       "        </tr>\n",
       "        <tr>\n",
       "            <td>US-NH</td>\n",
       "            <td>212</td>\n",
       "        </tr>\n",
       "        <tr>\n",
       "            <td>US-OK</td>\n",
       "            <td>696</td>\n",
       "        </tr>\n",
       "        <tr>\n",
       "            <td>US-VT</td>\n",
       "            <td>122</td>\n",
       "        </tr>\n",
       "        <tr>\n",
       "            <td>US-OR</td>\n",
       "            <td>696</td>\n",
       "        </tr>\n",
       "        <tr>\n",
       "            <td>US-WV</td>\n",
       "            <td>152</td>\n",
       "        </tr>\n",
       "        <tr>\n",
       "            <td>US-IN</td>\n",
       "            <td>785</td>\n",
       "        </tr>\n",
       "        <tr>\n",
       "            <td>US-MS</td>\n",
       "            <td>442</td>\n",
       "        </tr>\n",
       "        <tr>\n",
       "            <td>US-MT</td>\n",
       "            <td>442</td>\n",
       "        </tr>\n",
       "        <tr>\n",
       "            <td>US-CO</td>\n",
       "            <td>655</td>\n",
       "        </tr>\n",
       "        <tr>\n",
       "            <td>US-ME</td>\n",
       "            <td>274</td>\n",
       "        </tr>\n",
       "        <tr>\n",
       "            <td>US-OH</td>\n",
       "            <td>922</td>\n",
       "        </tr>\n",
       "        <tr>\n",
       "            <td>US-PA</td>\n",
       "            <td>1064</td>\n",
       "        </tr>\n",
       "        <tr>\n",
       "            <td>US-ND</td>\n",
       "            <td>343</td>\n",
       "        </tr>\n",
       "        <tr>\n",
       "            <td>US-GA</td>\n",
       "            <td>658</td>\n",
       "        </tr>\n",
       "        <tr>\n",
       "            <td>US-NJ</td>\n",
       "            <td>470</td>\n",
       "        </tr>\n",
       "        <tr>\n",
       "            <td>US-CA</td>\n",
       "            <td>2364</td>\n",
       "        </tr>\n",
       "        <tr>\n",
       "            <td>US-ID</td>\n",
       "            <td>460</td>\n",
       "        </tr>\n",
       "        <tr>\n",
       "            <td>US-DC</td>\n",
       "            <td>21</td>\n",
       "        </tr>\n",
       "        <tr>\n",
       "            <td>US-DE</td>\n",
       "            <td>61</td>\n",
       "        </tr>\n",
       "        <tr>\n",
       "            <td>US-MN</td>\n",
       "            <td>676</td>\n",
       "        </tr>\n",
       "        <tr>\n",
       "            <td>US-IL</td>\n",
       "            <td>1103</td>\n",
       "        </tr>\n",
       "        <tr>\n",
       "            <td>US-FL</td>\n",
       "            <td>1248</td>\n",
       "        </tr>\n",
       "        <tr>\n",
       "            <td>US-KY</td>\n",
       "            <td>334</td>\n",
       "        </tr>\n",
       "        <tr>\n",
       "            <td>US-KS</td>\n",
       "            <td>579</td>\n",
       "        </tr>\n",
       "        <tr>\n",
       "            <td>US-VA</td>\n",
       "            <td>576</td>\n",
       "        </tr>\n",
       "        <tr>\n",
       "            <td>US-SC</td>\n",
       "            <td>268</td>\n",
       "        </tr>\n",
       "        <tr>\n",
       "            <td>US-WI</td>\n",
       "            <td>679</td>\n",
       "        </tr>\n",
       "        <tr>\n",
       "            <td>US-AR</td>\n",
       "            <td>741</td>\n",
       "        </tr>\n",
       "        <tr>\n",
       "            <td>US-LA</td>\n",
       "            <td>862</td>\n",
       "        </tr>\n",
       "        <tr>\n",
       "            <td>US-NM</td>\n",
       "            <td>447</td>\n",
       "        </tr>\n",
       "        <tr>\n",
       "            <td>US-UT</td>\n",
       "            <td>425</td>\n",
       "        </tr>\n",
       "        <tr>\n",
       "            <td>US-MI</td>\n",
       "            <td>678</td>\n",
       "        </tr>\n",
       "        <tr>\n",
       "            <td>US-NE</td>\n",
       "            <td>365</td>\n",
       "        </tr>\n",
       "        <tr>\n",
       "            <td>US-WY</td>\n",
       "            <td>240</td>\n",
       "        </tr>\n",
       "        <tr>\n",
       "            <td>US-MO</td>\n",
       "            <td>746</td>\n",
       "        </tr>\n",
       "        <tr>\n",
       "            <td>US-TX</td>\n",
       "            <td>3761</td>\n",
       "        </tr>\n",
       "        <tr>\n",
       "            <td>US-HI</td>\n",
       "            <td>125</td>\n",
       "        </tr>\n",
       "    </tbody>\n",
       "</table>"
      ],
      "text/plain": [
       "+---------+---------+\n",
       "| Field 1 | Field 2 |\n",
       "+---------+---------+\n",
       "|  US-WA  |   742   |\n",
       "|  US-NV  |   416   |\n",
       "|  US-AK  |   1065  |\n",
       "|  US-U-A |    1    |\n",
       "|  US-SD  |   256   |\n",
       "|  US-AL  |   500   |\n",
       "|  US-NY  |   796   |\n",
       "|  US-CT  |   168   |\n",
       "|  US-NC  |   609   |\n",
       "|  US-RI  |    44   |\n",
       "|  US-MA  |   273   |\n",
       "|  US-MD  |   295   |\n",
       "|  US-TN  |   440   |\n",
       "|  US-IA  |   419   |\n",
       "|  US-AZ  |   979   |\n",
       "|  US-NH  |   212   |\n",
       "|  US-OK  |   696   |\n",
       "|  US-VT  |   122   |\n",
       "|  US-OR  |   696   |\n",
       "|  US-WV  |   152   |\n",
       "|  US-IN  |   785   |\n",
       "|  US-MS  |   442   |\n",
       "|  US-MT  |   442   |\n",
       "|  US-CO  |   655   |\n",
       "|  US-ME  |   274   |\n",
       "|  US-OH  |   922   |\n",
       "|  US-PA  |   1064  |\n",
       "|  US-ND  |   343   |\n",
       "|  US-GA  |   658   |\n",
       "|  US-NJ  |   470   |\n",
       "|  US-CA  |   2364  |\n",
       "|  US-ID  |   460   |\n",
       "|  US-DC  |    21   |\n",
       "|  US-DE  |    61   |\n",
       "|  US-MN  |   676   |\n",
       "|  US-IL  |   1103  |\n",
       "|  US-FL  |   1248  |\n",
       "|  US-KY  |   334   |\n",
       "|  US-KS  |   579   |\n",
       "|  US-VA  |   576   |\n",
       "|  US-SC  |   268   |\n",
       "|  US-WI  |   679   |\n",
       "|  US-AR  |   741   |\n",
       "|  US-LA  |   862   |\n",
       "|  US-NM  |   447   |\n",
       "|  US-UT  |   425   |\n",
       "|  US-MI  |   678   |\n",
       "|  US-NE  |   365   |\n",
       "|  US-WY  |   240   |\n",
       "|  US-MO  |   746   |\n",
       "|  US-TX  |   3761  |\n",
       "|  US-HI  |   125   |\n",
       "+---------+---------+"
      ]
     },
     "execution_count": 43,
     "metadata": {},
     "output_type": "execute_result"
    }
   ],
   "source": [
    "%%sql\n",
    "SELECT\n",
    "  iso_region,\n",
    "  COUNT(*) airports_per_region\n",
    "FROM\n",
    "  lakefs.dev.flights.airports_partitioned\n",
    "GROUP BY\n",
    "  iso_region"
   ]
  },
  {
   "cell_type": "markdown",
   "id": "fa771262-2dde-4ecc-b1a1-3dac9f580cfa",
   "metadata": {},
   "source": [
    "# Commit the changes to the `dev` branch"
   ]
  },
  {
   "cell_type": "code",
   "execution_count": 44,
   "id": "d8b77b63-0011-4051-bc69-4a37c18f88ff",
   "metadata": {
    "tags": []
   },
   "outputs": [
    {
     "name": "stdout",
     "output_type": "stream",
     "text": [
      "Message: Remove data for non US airports from the Airports dataset, build region aggregate and add a new, partitioned Airport table\n",
      "ID: 7b417a9658390e754ce78382d7857b453c479bfdb612f942273edfa85a97a2f3\n",
      "Committer: quickstart\n",
      "Creation Date: 2024-11-19 15:28:54\n",
      "Parents: ['d3449abf9c42d80efe4b98f9a0eb7221c3e866fdfda8b15c91688892fd536373']\n",
      "Metadata:\n",
      "{'author': 'lakefs', 'etl job name': 'etl_job_42'}\n"
     ]
    }
   ],
   "source": [
    "ref = branchDev.commit(\n",
    "    message=\"Remove data for non US airports from the Airports dataset, build region aggregate and add a new, partitioned Airport table\",\n",
    "    metadata={\"etl job name\": \"etl_job_42\",\n",
    "              \"author\": \"lakefs\"})\n",
    "print_commit(ref.get_commit())"
   ]
  },
  {
   "cell_type": "markdown",
   "id": "16cfba21-0717-49e6-afcf-e0af9a4caa36",
   "metadata": {},
   "source": [
    "## Are the changes already visible in main branch?\n",
    "\n",
    "Now, as you can see we still get the full data back (81'193) when querying the airports table. We need to Merge the changes first."
   ]
  },
  {
   "cell_type": "code",
   "execution_count": 48,
   "id": "ffce474a-f96c-4c94-b68b-57ddbeb26ff3",
   "metadata": {},
   "outputs": [
    {
     "data": {
      "text/html": [
       "<span style=\"None\">Running query in &#x27;SparkSession&#x27;</span>"
      ],
      "text/plain": [
       "Running query in 'SparkSession'"
      ]
     },
     "metadata": {},
     "output_type": "display_data"
    },
    {
     "data": {
      "text/html": [
       "<span style=\"color: green\">1 rows affected.</span>"
      ],
      "text/plain": [
       "1 rows affected."
      ]
     },
     "metadata": {},
     "output_type": "display_data"
    },
    {
     "data": {
      "text/html": [
       "<table>\n",
       "    <thead>\n",
       "        <tr>\n",
       "            <th>Field 1</th>\n",
       "        </tr>\n",
       "    </thead>\n",
       "    <tbody>\n",
       "        <tr>\n",
       "            <td>31695</td>\n",
       "        </tr>\n",
       "    </tbody>\n",
       "</table>"
      ],
      "text/plain": [
       "+---------+\n",
       "| Field 1 |\n",
       "+---------+\n",
       "|  31695  |\n",
       "+---------+"
      ]
     },
     "execution_count": 48,
     "metadata": {},
     "output_type": "execute_result"
    }
   ],
   "source": [
    "%%sql\n",
    "SELECT\n",
    "  COUNT(*)\n",
    "FROM\n",
    "  lakefs.main.flights.airports;"
   ]
  },
  {
   "cell_type": "markdown",
   "id": "17435550-2212-4caf-a17e-d534ad9df31e",
   "metadata": {},
   "source": [
    "# Merge the branch back into `main`"
   ]
  },
  {
   "cell_type": "code",
   "execution_count": 46,
   "id": "3d17bffc-facd-497f-ba55-5cc309538baf",
   "metadata": {
    "tags": []
   },
   "outputs": [
    {
     "name": "stdout",
     "output_type": "stream",
     "text": [
      "24284d22b1b6bf8c753476b153b493ab76ccd65d844191659a45644c2d3fae7a\n"
     ]
    }
   ],
   "source": [
    "res = branchDev.merge_into(branchMain)\n",
    "print(res)"
   ]
  },
  {
   "cell_type": "markdown",
   "id": "ecea713c-8489-43e0-9968-9f4fd16e2d49",
   "metadata": {},
   "source": [
    "---"
   ]
  },
  {
   "cell_type": "markdown",
   "id": "380d2d46-d9f8-4880-a924-aaeb7312ed42",
   "metadata": {},
   "source": [
    "---"
   ]
  },
  {
   "cell_type": "markdown",
   "id": "99a77a15-7f39-4707-a364-99451c6fe0f6",
   "metadata": {},
   "source": [
    "---"
   ]
  },
  {
   "cell_type": "code",
   "execution_count": 47,
   "id": "f44dd985-dae3-4521-b0b2-3164ecf9cca1",
   "metadata": {
    "tags": []
   },
   "outputs": [
    {
     "data": {
      "text/markdown": [
       "### 👉🏻 View the objects in [lakeFS web UI](http://dataplatform:28220/repositories/demo/objects)"
      ],
      "text/plain": [
       "<IPython.core.display.Markdown object>"
      ]
     },
     "execution_count": 47,
     "metadata": {},
     "output_type": "execute_result"
    }
   ],
   "source": [
    "from IPython.display import Markdown as md\n",
    "\n",
    "if lakefsEndPoint=='http://lakefs:8000':\n",
    "    lakeFSWebUI='http://dataplatform:28220'\n",
    "else:\n",
    "    lakeFSWebUI=lakefsEndPoint\n",
    "\n",
    "md(f\"### 👉🏻 View the objects in [lakeFS web UI]({lakeFSWebUI}/repositories/{repo_name}/objects)\")"
   ]
  },
  {
   "cell_type": "markdown",
   "id": "24c7709f-3395-492a-bc94-53f5d4e0b756",
   "metadata": {},
   "source": [
    "## More Questions?\n",
    "\n",
    "###### Join the lakeFS Slack group - https://lakefs.io/slack"
   ]
  },
  {
   "cell_type": "code",
   "execution_count": null,
   "id": "cff8fcb9-3fc0-4336-8b4a-6fc38f83f701",
   "metadata": {},
   "outputs": [],
   "source": []
  }
 ],
 "metadata": {
  "kernelspec": {
   "display_name": "Python 3 (ipykernel)",
   "language": "python",
   "name": "python3"
  },
  "language_info": {
   "codemirror_mode": {
    "name": "ipython",
    "version": 3
   },
   "file_extension": ".py",
   "mimetype": "text/x-python",
   "name": "python",
   "nbconvert_exporter": "python",
   "pygments_lexer": "ipython3",
   "version": "3.11.10"
  }
 },
 "nbformat": 4,
 "nbformat_minor": 5
}
