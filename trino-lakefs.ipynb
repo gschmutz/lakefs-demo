{
 "cells": [
  {
   "cell_type": "markdown",
   "id": "c9081213-106c-450e-b372-1ab9f529ab39",
   "metadata": {},
   "source": [
    "<img src=\"https://store-images.s-microsoft.com/image/apps.22094.728e1f25-a784-458f-90e1-7729049edba2.144bf785-b784-41dd-bcef-c91792108c09.f0be1bc2-af8f-49fc-ac4c-dfd9d53d9e8d\" alt=\"lakeFS logo\" width=130/> &nbsp;&nbsp;&nbsp;&nbsp;&nbsp;&nbsp; <img src=\"https://trino.io/assets/images/trino-logo/trino-ko_tiny-alt.svg\" alt=\"Trino logo\" width=100/>  \n",
    "\n",
    "## lakeFS ❤️ Trino - an example using TPCH dataset"
   ]
  },
  {
   "cell_type": "markdown",
   "id": "b6bd9b02-924c-42b4-8f1f-aea7ebbc4099",
   "metadata": {},
   "source": [
    "First let's install trino and sqlalchemy-trino"
   ]
  },
  {
   "cell_type": "code",
   "execution_count": 9,
   "id": "ba1f06d7-20a3-407e-9ed8-e7ce86a5e8a3",
   "metadata": {},
   "outputs": [
    {
     "name": "stdout",
     "output_type": "stream",
     "text": [
      "Note: you may need to restart the kernel to use updated packages.\n"
     ]
    }
   ],
   "source": [
    "pip install trino sqlalchemy-trino --quiet"
   ]
  },
  {
   "cell_type": "code",
   "execution_count": 10,
   "id": "1d93f498-4f3f-43dd-a392-c08e6989c511",
   "metadata": {},
   "outputs": [
    {
     "name": "stdout",
     "output_type": "stream",
     "text": [
      "The sql extension is already loaded. To reload it, use:\n",
      "  %reload_ext sql\n"
     ]
    }
   ],
   "source": [
    "%load_ext sql"
   ]
  },
  {
   "cell_type": "code",
   "execution_count": 11,
   "id": "67a812bc-96a1-4381-b37f-f2eec68d5af8",
   "metadata": {},
   "outputs": [],
   "source": [
    "%sql trino://user@trino-1:8080/minio"
   ]
  },
  {
   "cell_type": "markdown",
   "id": "01f16194-301e-42e8-902d-87e02100cd8b",
   "metadata": {},
   "source": [
    "First create a schema under the Trino Hive catalog called `minio` that was pointing to minio but is now wrapped by LakeFS to add the git like layer around the file storage."
   ]
  },
  {
   "cell_type": "code",
   "execution_count": 15,
   "id": "6ee67d1c-a756-4a1d-936d-8e9648b229c0",
   "metadata": {},
   "outputs": [
    {
     "data": {
      "text/html": [
       "<span style=\"None\">Running query in &#x27;trino://user@trino-1:8080/minio&#x27;</span>"
      ],
      "text/plain": [
       "Running query in 'trino://user@trino-1:8080/minio'"
      ]
     },
     "metadata": {},
     "output_type": "display_data"
    },
    {
     "data": {
      "text/html": [
       "<table>\n",
       "    <thead>\n",
       "        <tr>\n",
       "        </tr>\n",
       "    </thead>\n",
       "    <tbody>\n",
       "    </tbody>\n",
       "</table>"
      ],
      "text/plain": [
       "++\n",
       "||\n",
       "++\n",
       "++"
      ]
     },
     "execution_count": 15,
     "metadata": {},
     "output_type": "execute_result"
    }
   ],
   "source": [
    "%%sql\n",
    "CREATE SCHEMA minio.tpch_tiny\n",
    "WITH (location = 's3a://demo/main/tpch_tiny')"
   ]
  },
  {
   "cell_type": "markdown",
   "id": "12d9a04a-0e96-4a9f-8461-30ed680abab8",
   "metadata": {},
   "source": [
    "Now, create two tables, `customer` and `orders` by setting `external_location` using the same namespace used in the schema and adding the table name. The data will pull from the tiny TPCH data set."
   ]
  },
  {
   "cell_type": "code",
   "execution_count": 18,
   "id": "30add17a-250a-45ed-89f6-c49fe443ba1c",
   "metadata": {},
   "outputs": [
    {
     "data": {
      "text/html": [
       "<span style=\"None\">Running query in &#x27;trino://user@trino-1:8080/minio&#x27;</span>"
      ],
      "text/plain": [
       "Running query in 'trino://user@trino-1:8080/minio'"
      ]
     },
     "metadata": {},
     "output_type": "display_data"
    },
    {
     "data": {
      "text/html": [
       "<span style=\"color: green\">1500 rows affected.</span>"
      ],
      "text/plain": [
       "1500 rows affected."
      ]
     },
     "metadata": {},
     "output_type": "display_data"
    },
    {
     "data": {
      "text/html": [
       "<table>\n",
       "    <thead>\n",
       "        <tr>\n",
       "            <th>rows</th>\n",
       "        </tr>\n",
       "    </thead>\n",
       "    <tbody>\n",
       "        <tr>\n",
       "            <td>1500</td>\n",
       "        </tr>\n",
       "    </tbody>\n",
       "</table>"
      ],
      "text/plain": [
       "+------+\n",
       "| rows |\n",
       "+------+\n",
       "| 1500 |\n",
       "+------+"
      ]
     },
     "execution_count": 18,
     "metadata": {},
     "output_type": "execute_result"
    }
   ],
   "source": [
    "%%sql\n",
    "CREATE TABLE minio.tpch_tiny.customer\n",
    "WITH (\n",
    "  format = 'PARQUET',\n",
    "  external_location = 's3a://demo/main/tpch_tiny/customer/'\n",
    ") \n",
    "AS SELECT * FROM tpch.tiny.customer"
   ]
  },
  {
   "cell_type": "code",
   "execution_count": 19,
   "id": "588bfaf6-edc9-4835-a639-08c596a10d04",
   "metadata": {},
   "outputs": [
    {
     "data": {
      "text/html": [
       "<span style=\"None\">Running query in &#x27;trino://user@trino-1:8080/minio&#x27;</span>"
      ],
      "text/plain": [
       "Running query in 'trino://user@trino-1:8080/minio'"
      ]
     },
     "metadata": {},
     "output_type": "display_data"
    },
    {
     "data": {
      "text/html": [
       "<span style=\"color: green\">15000 rows affected.</span>"
      ],
      "text/plain": [
       "15000 rows affected."
      ]
     },
     "metadata": {},
     "output_type": "display_data"
    },
    {
     "data": {
      "text/html": [
       "<table>\n",
       "    <thead>\n",
       "        <tr>\n",
       "            <th>rows</th>\n",
       "        </tr>\n",
       "    </thead>\n",
       "    <tbody>\n",
       "        <tr>\n",
       "            <td>15000</td>\n",
       "        </tr>\n",
       "    </tbody>\n",
       "</table>"
      ],
      "text/plain": [
       "+-------+\n",
       "|  rows |\n",
       "+-------+\n",
       "| 15000 |\n",
       "+-------+"
      ]
     },
     "execution_count": 19,
     "metadata": {},
     "output_type": "execute_result"
    }
   ],
   "source": [
    "%%sql\n",
    "CREATE TABLE minio.tpch_tiny.orders\n",
    "WITH (\n",
    "  format = 'PARQUET',\n",
    "  external_location = 's3a://demo/main/tpch_tiny/orders/'\n",
    ") \n",
    "AS SELECT * FROM tpch.tiny.orders"
   ]
  },
  {
   "cell_type": "markdown",
   "id": "3237a877-d6ba-4317-a44f-1d412f2991b2",
   "metadata": {},
   "source": [
    "List the tables in the schema `tpch_tiny`"
   ]
  },
  {
   "cell_type": "code",
   "execution_count": 20,
   "id": "3339d26b-ec5e-4c59-810d-4d06c6b1f536",
   "metadata": {},
   "outputs": [
    {
     "data": {
      "text/html": [
       "<table>\n",
       "    <thead>\n",
       "        <tr>\n",
       "            <th>Name</th>\n",
       "        </tr>\n",
       "    </thead>\n",
       "    <tbody>\n",
       "        <tr>\n",
       "            <td>orders</td>\n",
       "        </tr>\n",
       "        <tr>\n",
       "            <td>customer</td>\n",
       "        </tr>\n",
       "    </tbody>\n",
       "</table>"
      ],
      "text/plain": [
       "+----------+\n",
       "|   Name   |\n",
       "+----------+\n",
       "|  orders  |\n",
       "| customer |\n",
       "+----------+"
      ]
     },
     "execution_count": 20,
     "metadata": {},
     "output_type": "execute_result"
    }
   ],
   "source": [
    "%sqlcmd tables --schema tpch_tiny"
   ]
  },
  {
   "cell_type": "markdown",
   "id": "3965d9d4-20d0-4c11-8f9b-5a758f3c2cd4",
   "metadata": {},
   "source": [
    "Verify that you can see the table directories in LakeFS once they exist. http://localhost:28220/repositories/demo/objects?ref=main&path=tpch_tiny%2F"
   ]
  },
  {
   "cell_type": "code",
   "execution_count": 23,
   "id": "9dc45657-c487-49cc-acd1-c19d7997ef63",
   "metadata": {},
   "outputs": [
    {
     "data": {
      "text/html": [
       "<span style=\"None\">Running query in &#x27;trino://user@trino-1:8080/minio&#x27;</span>"
      ],
      "text/plain": [
       "Running query in 'trino://user@trino-1:8080/minio'"
      ]
     },
     "metadata": {},
     "output_type": "display_data"
    },
    {
     "data": {
      "text/html": [
       "<table>\n",
       "    <thead>\n",
       "        <tr>\n",
       "            <th>ORDERKEY</th>\n",
       "            <th>ORDERDATE</th>\n",
       "            <th>SHIPPRIORITY</th>\n",
       "        </tr>\n",
       "    </thead>\n",
       "    <tbody>\n",
       "        <tr>\n",
       "            <td>27137</td>\n",
       "            <td>1992-01-01</td>\n",
       "            <td>0</td>\n",
       "        </tr>\n",
       "        <tr>\n",
       "            <td>5607</td>\n",
       "            <td>1992-01-01</td>\n",
       "            <td>0</td>\n",
       "        </tr>\n",
       "        <tr>\n",
       "            <td>46085</td>\n",
       "            <td>1992-01-03</td>\n",
       "            <td>0</td>\n",
       "        </tr>\n",
       "        <tr>\n",
       "            <td>24167</td>\n",
       "            <td>1992-01-03</td>\n",
       "            <td>0</td>\n",
       "        </tr>\n",
       "        <tr>\n",
       "            <td>9379</td>\n",
       "            <td>1992-01-04</td>\n",
       "            <td>0</td>\n",
       "        </tr>\n",
       "        <tr>\n",
       "            <td>56033</td>\n",
       "            <td>1992-01-04</td>\n",
       "            <td>0</td>\n",
       "        </tr>\n",
       "        <tr>\n",
       "            <td>34145</td>\n",
       "            <td>1992-01-04</td>\n",
       "            <td>0</td>\n",
       "        </tr>\n",
       "        <tr>\n",
       "            <td>44646</td>\n",
       "            <td>1992-01-05</td>\n",
       "            <td>0</td>\n",
       "        </tr>\n",
       "        <tr>\n",
       "            <td>39619</td>\n",
       "            <td>1992-01-05</td>\n",
       "            <td>0</td>\n",
       "        </tr>\n",
       "        <tr>\n",
       "            <td>16036</td>\n",
       "            <td>1992-01-06</td>\n",
       "            <td>0</td>\n",
       "        </tr>\n",
       "    </tbody>\n",
       "</table>\n",
       "<span style=\"font-style:italic;text-align:center;\">Truncated to <a href=\"https://jupysql.ploomber.io/en/latest/api/configuration.html#displaylimit\">displaylimit</a> of 10.</span>"
      ],
      "text/plain": [
       "+----------+------------+--------------+\n",
       "| ORDERKEY | ORDERDATE  | SHIPPRIORITY |\n",
       "+----------+------------+--------------+\n",
       "|  27137   | 1992-01-01 |      0       |\n",
       "|   5607   | 1992-01-01 |      0       |\n",
       "|  46085   | 1992-01-03 |      0       |\n",
       "|  24167   | 1992-01-03 |      0       |\n",
       "|   9379   | 1992-01-04 |      0       |\n",
       "|  56033   | 1992-01-04 |      0       |\n",
       "|  34145   | 1992-01-04 |      0       |\n",
       "|  44646   | 1992-01-05 |      0       |\n",
       "|  39619   | 1992-01-05 |      0       |\n",
       "|  16036   | 1992-01-06 |      0       |\n",
       "+----------+------------+--------------+\n",
       "Truncated to displaylimit of 10."
      ]
     },
     "execution_count": 23,
     "metadata": {},
     "output_type": "execute_result"
    }
   ],
   "source": [
    "%%sql\n",
    "SELECT ORDERKEY, ORDERDATE, SHIPPRIORITY\n",
    "FROM minio.tpch_tiny.customer c, minio.tpch_tiny.orders o\n",
    "WHERE MKTSEGMENT = 'BUILDING' AND c.CUSTKEY = o.CUSTKEY AND\n",
    "ORDERDATE < date'1995-03-15'\n",
    "GROUP BY ORDERKEY, ORDERDATE, SHIPPRIORITY\n",
    "ORDER BY ORDERDATE"
   ]
  },
  {
   "cell_type": "markdown",
   "id": "f4ee0352-a91c-47b6-8051-d26299e2b45e",
   "metadata": {},
   "source": [
    "Open the LakeFS UI again and click on the **Unversioned Changes** tab. Click **Commit Changes**. Type a commit message on the popup and click **Commit Changes**."
   ]
  },
  {
   "cell_type": "markdown",
   "id": "d95e4e7b-316f-4885-b7e9-54a9bbb5d610",
   "metadata": {},
   "source": [
    "Once the changes are commited on branch main, click on the Branches tab. Click **Create Branch**. Name a new branch `sandbox` that branches off of the main branch. Now click **Create**."
   ]
  },
  {
   "cell_type": "markdown",
   "id": "64a5bd1b-e78b-4d72-9c4c-728b67c79059",
   "metadata": {},
   "source": [
    "Although there is a branch that exists called `sandbox`, this only exists logically and we need to make Trino aware by adding another schema and tables that point to the new branch. Do this by making a new schema called `tpch_tiny_sandbox`\n",
    " and changing the location property to point to the `sandbox` branch instead of the `main`branch."
   ]
  },
  {
   "cell_type": "code",
   "execution_count": 26,
   "id": "354260af-667a-44c8-bd7e-59771c89d663",
   "metadata": {},
   "outputs": [
    {
     "data": {
      "text/html": [
       "<span style=\"None\">Running query in &#x27;trino://user@trino-1:8080/minio&#x27;</span>"
      ],
      "text/plain": [
       "Running query in 'trino://user@trino-1:8080/minio'"
      ]
     },
     "metadata": {},
     "output_type": "display_data"
    },
    {
     "data": {
      "text/html": [
       "<table>\n",
       "    <thead>\n",
       "        <tr>\n",
       "        </tr>\n",
       "    </thead>\n",
       "    <tbody>\n",
       "    </tbody>\n",
       "</table>"
      ],
      "text/plain": [
       "++\n",
       "||\n",
       "++\n",
       "++"
      ]
     },
     "execution_count": 26,
     "metadata": {},
     "output_type": "execute_result"
    }
   ],
   "source": [
    "%%sql\n",
    "CREATE SCHEMA minio.tpch_tiny_sandbox\n",
    "WITH (location = 's3a://demo/sandbox/tpch_tiny')"
   ]
  },
  {
   "cell_type": "code",
   "execution_count": 28,
   "id": "199af809-ce87-4eb1-a43c-4ba40b62271a",
   "metadata": {},
   "outputs": [
    {
     "data": {
      "text/html": [
       "<span style=\"None\">Running query in &#x27;trino://user@trino-1:8080/minio&#x27;</span>"
      ],
      "text/plain": [
       "Running query in 'trino://user@trino-1:8080/minio'"
      ]
     },
     "metadata": {},
     "output_type": "display_data"
    },
    {
     "data": {
      "text/html": [
       "<table>\n",
       "    <thead>\n",
       "        <tr>\n",
       "        </tr>\n",
       "    </thead>\n",
       "    <tbody>\n",
       "    </tbody>\n",
       "</table>"
      ],
      "text/plain": [
       "++\n",
       "||\n",
       "++\n",
       "++"
      ]
     },
     "execution_count": 28,
     "metadata": {},
     "output_type": "execute_result"
    }
   ],
   "source": [
    "%%sql\n",
    "CREATE TABLE minio.tpch_tiny_sandbox.customer (\n",
    "   custkey bigint,\n",
    "   name varchar(25),\n",
    "   address varchar(40),\n",
    "   nationkey bigint,\n",
    "   phone varchar(15),\n",
    "   acctbal double,\n",
    "   mktsegment varchar(10),\n",
    "   comment varchar(117)\n",
    ")\n",
    "WITH (\n",
    "   external_location = 's3a://demo/sandbox/tpch_tiny/customer',\n",
    "   format = 'PARQUET'\n",
    ")"
   ]
  },
  {
   "cell_type": "code",
   "execution_count": 29,
   "id": "9d5d1a67-e067-4cc3-b1ff-b4a76bfb41c4",
   "metadata": {},
   "outputs": [
    {
     "data": {
      "text/html": [
       "<span style=\"None\">Running query in &#x27;trino://user@trino-1:8080/minio&#x27;</span>"
      ],
      "text/plain": [
       "Running query in 'trino://user@trino-1:8080/minio'"
      ]
     },
     "metadata": {},
     "output_type": "display_data"
    },
    {
     "data": {
      "text/html": [
       "<table>\n",
       "    <thead>\n",
       "        <tr>\n",
       "        </tr>\n",
       "    </thead>\n",
       "    <tbody>\n",
       "    </tbody>\n",
       "</table>"
      ],
      "text/plain": [
       "++\n",
       "||\n",
       "++\n",
       "++"
      ]
     },
     "execution_count": 29,
     "metadata": {},
     "output_type": "execute_result"
    }
   ],
   "source": [
    "%%sql\n",
    "\n",
    "CREATE TABLE minio.tpch_tiny_sandbox.orders (\n",
    "   orderkey bigint,\n",
    "   custkey bigint,\n",
    "   orderstatus varchar(1),\n",
    "   totalprice double,\n",
    "   orderdate date,\n",
    "   orderpriority varchar(15),\n",
    "   clerk varchar(15),\n",
    "   shippriority integer,\n",
    "   comment varchar(79)\n",
    ")\n",
    "WITH (\n",
    "   external_location = 's3a://demo/sandbox/tpch_tiny/orders',\n",
    "   format = 'PARQUET'\n",
    ")"
   ]
  },
  {
   "cell_type": "markdown",
   "id": "4bc00e5c-aa82-4e0e-97e9-d5cd349566ab",
   "metadata": {},
   "source": [
    "Once these table definitions exist, go ahead and run the same query as before, but update using the `tpch_tiny_sandbox` schema instead of the `tpch_tiny`\n",
    " schema."
   ]
  },
  {
   "cell_type": "code",
   "execution_count": 31,
   "id": "03beac48-14a1-40de-bbaf-b818c36ab290",
   "metadata": {},
   "outputs": [
    {
     "data": {
      "text/html": [
       "<span style=\"None\">Running query in &#x27;trino://user@trino-1:8080/minio&#x27;</span>"
      ],
      "text/plain": [
       "Running query in 'trino://user@trino-1:8080/minio'"
      ]
     },
     "metadata": {},
     "output_type": "display_data"
    },
    {
     "data": {
      "text/html": [
       "<table>\n",
       "    <thead>\n",
       "        <tr>\n",
       "            <th>ORDERKEY</th>\n",
       "            <th>ORDERDATE</th>\n",
       "            <th>SHIPPRIORITY</th>\n",
       "        </tr>\n",
       "    </thead>\n",
       "    <tbody>\n",
       "        <tr>\n",
       "            <td>27137</td>\n",
       "            <td>1992-01-01</td>\n",
       "            <td>0</td>\n",
       "        </tr>\n",
       "        <tr>\n",
       "            <td>5607</td>\n",
       "            <td>1992-01-01</td>\n",
       "            <td>0</td>\n",
       "        </tr>\n",
       "        <tr>\n",
       "            <td>46085</td>\n",
       "            <td>1992-01-03</td>\n",
       "            <td>0</td>\n",
       "        </tr>\n",
       "        <tr>\n",
       "            <td>24167</td>\n",
       "            <td>1992-01-03</td>\n",
       "            <td>0</td>\n",
       "        </tr>\n",
       "        <tr>\n",
       "            <td>56033</td>\n",
       "            <td>1992-01-04</td>\n",
       "            <td>0</td>\n",
       "        </tr>\n",
       "        <tr>\n",
       "            <td>34145</td>\n",
       "            <td>1992-01-04</td>\n",
       "            <td>0</td>\n",
       "        </tr>\n",
       "        <tr>\n",
       "            <td>9379</td>\n",
       "            <td>1992-01-04</td>\n",
       "            <td>0</td>\n",
       "        </tr>\n",
       "        <tr>\n",
       "            <td>39619</td>\n",
       "            <td>1992-01-05</td>\n",
       "            <td>0</td>\n",
       "        </tr>\n",
       "        <tr>\n",
       "            <td>44646</td>\n",
       "            <td>1992-01-05</td>\n",
       "            <td>0</td>\n",
       "        </tr>\n",
       "        <tr>\n",
       "            <td>16036</td>\n",
       "            <td>1992-01-06</td>\n",
       "            <td>0</td>\n",
       "        </tr>\n",
       "    </tbody>\n",
       "</table>\n",
       "<span style=\"font-style:italic;text-align:center;\">Truncated to <a href=\"https://jupysql.ploomber.io/en/latest/api/configuration.html#displaylimit\">displaylimit</a> of 10.</span>"
      ],
      "text/plain": [
       "+----------+------------+--------------+\n",
       "| ORDERKEY | ORDERDATE  | SHIPPRIORITY |\n",
       "+----------+------------+--------------+\n",
       "|  27137   | 1992-01-01 |      0       |\n",
       "|   5607   | 1992-01-01 |      0       |\n",
       "|  46085   | 1992-01-03 |      0       |\n",
       "|  24167   | 1992-01-03 |      0       |\n",
       "|  56033   | 1992-01-04 |      0       |\n",
       "|  34145   | 1992-01-04 |      0       |\n",
       "|   9379   | 1992-01-04 |      0       |\n",
       "|  39619   | 1992-01-05 |      0       |\n",
       "|  44646   | 1992-01-05 |      0       |\n",
       "|  16036   | 1992-01-06 |      0       |\n",
       "+----------+------------+--------------+\n",
       "Truncated to displaylimit of 10."
      ]
     },
     "execution_count": 31,
     "metadata": {},
     "output_type": "execute_result"
    }
   ],
   "source": [
    "%%sql\n",
    "SELECT ORDERKEY, ORDERDATE, SHIPPRIORITY\n",
    "FROM minio.tpch_tiny_sandbox.customer c, minio.tpch_tiny_sandbox.orders o\n",
    "WHERE MKTSEGMENT = 'BUILDING' AND c.CUSTKEY = o.CUSTKEY AND\n",
    "ORDERDATE < date'1995-03-15'\n",
    "ORDER BY ORDERDATE"
   ]
  },
  {
   "cell_type": "markdown",
   "id": "960ae31a-a870-4736-9516-8b6e820b9b61",
   "metadata": {},
   "source": [
    "One last bit of functionality we want to test is the merging capabilities. To do this, create a table called `lineitem` in the `sandbox` branch using a CTAS statement."
   ]
  },
  {
   "cell_type": "code",
   "execution_count": 35,
   "id": "a6093fda-d2c2-43da-be11-c5c22714604b",
   "metadata": {},
   "outputs": [
    {
     "data": {
      "text/html": [
       "<span style=\"None\">Running query in &#x27;trino://user@trino-1:8080/minio&#x27;</span>"
      ],
      "text/plain": [
       "Running query in 'trino://user@trino-1:8080/minio'"
      ]
     },
     "metadata": {},
     "output_type": "display_data"
    },
    {
     "data": {
      "text/html": [
       "<span style=\"color: green\">60175 rows affected.</span>"
      ],
      "text/plain": [
       "60175 rows affected."
      ]
     },
     "metadata": {},
     "output_type": "display_data"
    },
    {
     "data": {
      "text/html": [
       "<table>\n",
       "    <thead>\n",
       "        <tr>\n",
       "            <th>rows</th>\n",
       "        </tr>\n",
       "    </thead>\n",
       "    <tbody>\n",
       "        <tr>\n",
       "            <td>60175</td>\n",
       "        </tr>\n",
       "    </tbody>\n",
       "</table>"
      ],
      "text/plain": [
       "+-------+\n",
       "|  rows |\n",
       "+-------+\n",
       "| 60175 |\n",
       "+-------+"
      ]
     },
     "execution_count": 35,
     "metadata": {},
     "output_type": "execute_result"
    }
   ],
   "source": [
    "%%sql\n",
    "CREATE TABLE minio.tpch_tiny_sandbox.lineitem\n",
    "WITH (\n",
    "  format = 'PARQUET',\n",
    "  external_location = 's3a://demo/sandbox/tpch_tiny/lineitem/'\n",
    ") \n",
    "AS SELECT * FROM tpch.tiny.lineitem"
   ]
  },
  {
   "cell_type": "markdown",
   "id": "d9596430-7f7f-4d03-8f72-c14627392144",
   "metadata": {},
   "source": [
    "Verify that you can see three table directories in LakeFS including lineitem in the **sandbox** branch. \n",
    "http://localhost:28220/repositories/demo/objects?ref=sandbox&path=tpch_tiny%2F"
   ]
  },
  {
   "cell_type": "markdown",
   "id": "413a5606-4dbd-4d5b-8172-9ad0282ec93b",
   "metadata": {},
   "source": [
    "Verify that you do not see lineitem in the table directories in LakeFS in the **main** branch. \n",
    "http://localhost:28220/repositories/demo/objects?ref=main&path=tpch_tiny%2F"
   ]
  },
  {
   "cell_type": "code",
   "execution_count": null,
   "id": "4c512968-4b81-4750-a564-0bd92114fe11",
   "metadata": {},
   "outputs": [],
   "source": [
    "To merge the new table lineitem to show up in the main branch, first commit the new change to sandbox by again going to Unversioned Changes tab. Click Commit Changes. Type a commit message on the popup and click Commit Changes.\n",
    "\n",
    "Once the lineitem add is committed, click on the Compare tab. Set the base branch to main and the compared to branch to sandbox. You should see the addition of a line item show up in the diff view. Click Merge and click Yes."
   ]
  }
 ],
 "metadata": {
  "kernelspec": {
   "display_name": "Python 3 (ipykernel)",
   "language": "python",
   "name": "python3"
  },
  "language_info": {
   "codemirror_mode": {
    "name": "ipython",
    "version": 3
   },
   "file_extension": ".py",
   "mimetype": "text/x-python",
   "name": "python",
   "nbconvert_exporter": "python",
   "pygments_lexer": "ipython3",
   "version": "3.11.10"
  }
 },
 "nbformat": 4,
 "nbformat_minor": 5
}
